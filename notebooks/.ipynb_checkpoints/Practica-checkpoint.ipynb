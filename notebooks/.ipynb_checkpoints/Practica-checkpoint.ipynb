{
 "cells": [
  {
   "cell_type": "markdown",
   "metadata": {
    "collapsed": true
   },
   "source": [
    "<h1>Gourmet</h1>"
   ]
  },
  {
   "cell_type": "markdown",
   "metadata": {},
   "source": [
    "<h2>Introducció</h2>"
   ]
  },
  {
   "cell_type": "markdown",
   "metadata": {},
   "source": [
    "El sector del <i>Retail</i> generalment utilitza pràctiques com la promoció de productes en forma d'ofertes, recomanacions, etc.\n",
    "Especialment en els <i>web sites</i> de comerç electr&ograve;nic es fa un ús molt intensiu de la recomanació o les cerques amb resultats incentivats. Totes aquestes tècniques usen algoritmes de <i>Data Mining</i>."
   ]
  },
  {
   "cell_type": "markdown",
   "metadata": {},
   "source": [
    "En el nostre cas, l'empresa Gourmet, un cadena de botigues presencials ens demana ajuda, per mitjà de <i>Data Mining</i>."
   ]
  },
  {
   "cell_type": "markdown",
   "metadata": {},
   "source": [
    "La cadena de botigues Gourmet, no té presencia a Internet, pel que descartarem usar les tècniques covencionals de recomanació de productes durant la fase de cerca, i la promocio de productes a través de resultats incentivats."
   ]
  },
  {
   "cell_type": "markdown",
   "metadata": {},
   "source": [
    "<h2>Entorn de Base de dades</h2>"
   ]
  },
  {
   "cell_type": "markdown",
   "metadata": {},
   "source": [
    "S'ha recreat el model de dades en una base de dades MySql usant el framework DJango.\n",
    "El projecte està disponible juntament amb la resta de materials de l'entrega, i també a:\n",
    "<a href=\"https://github.com/albertsanso/gourmet-exercise\">https://github.com/albertsanso/gourmet-exercise</a>."
   ]
  },
  {
   "cell_type": "markdown",
   "metadata": {},
   "source": [
    "Per arrencar l'aplicació web cal situarse a l'arreldel projecte django (<font face=\"courier\">django/gourmet</font>) i executar la comanda:\n",
    "<font face=\"courier\"># python manage.py runserver</font>"
   ]
  },
  {
   "cell_type": "markdown",
   "metadata": {},
   "source": [
    "Per re-importar les dades dels fitxers CSV cal executar:\n",
    "<font face=\"courier\"># python import.py</font>"
   ]
  },
  {
   "cell_type": "markdown",
   "metadata": {},
   "source": [
    "<h2>Objectius de <i>Data Mining</i></h2>"
   ]
  },
  {
   "cell_type": "markdown",
   "metadata": {},
   "source": [
    "Per tal de respondre a les inquietuds del client, es proposa un projecte de Mineria de Dades.\n",
    "El primer que farem és plantejar un conjunt de preguntes objectiu a resoldre."
   ]
  },
  {
   "cell_type": "markdown",
   "metadata": {},
   "source": [
    "El client demana <b><i>Augmentar la facturaci&oacute;</i></b>. Sense donar més detall.\n",
    "S'interpreta doncs, que el client vol vendre M&Eacute;S sense importar els costos."
   ]
  },
  {
   "cell_type": "markdown",
   "metadata": {},
   "source": [
    "<h3>Objectiu 1: Identificar patrons de compra.</h3>"
   ]
  },
  {
   "cell_type": "markdown",
   "metadata": {},
   "source": [
    "Es preten identificar patrons en les compres dels clients de les tendes Gourmet, de manera que es puguin <i>descobrir</i> productes relacionats.\n",
    "\n",
    "<i>\"Qui compra ous i pa, també comprar&agrave; llet i formatge.\"</i>\n",
    "\n",
    "Obtenint relacions entre productes d'aquest tipus es poden llençar <i><b>Promocions</b></i> per incentivar la compra dels productes relacionats: <i>\"Baixem el preu dels ous i el pa perquè volem que compris llet.\"</i>"
   ]
  },
  {
   "cell_type": "markdown",
   "metadata": {},
   "source": [
    "Aquest tipus de relacions entre productes les podem obtenir fent <i>Anàlisi de la Cistella de la compra</i> usant <i><b>Regles d'Associaci&oacute;</b></i>"
   ]
  },
  {
   "cell_type": "markdown",
   "metadata": {},
   "source": [
    "Enllaços relacionats:<br>\n",
    "<a href=\"https://towardsdatascience.com/a-gentle-introduction-on-market-basket-analysis-association-rules-fa4b986a40ce\">https://towardsdatascience.com/a-gentle-introduction-on-market-basket-analysis-association-rules-fa4b986a40ce</a>\n",
    "<a href=\"https://discourse.snowplowanalytics.com/t/market-basket-analysis-identifying-products-and-content-that-go-well-together/1132\">https://discourse.snowplowanalytics.com/t/market-basket-analysis-identifying-products-and-content-that-go-well-together/1132</a>"
   ]
  },
  {
   "cell_type": "markdown",
   "metadata": {},
   "source": [
    "Al notebook <i>\"Anàlisi de la cistella de la compra\"</i> es detalla el procés d'obtenció de les regles:"
   ]
  },
  {
   "cell_type": "markdown",
   "metadata": {},
   "source": [
    "<img src=\"Captura de 2018-01-08 23-24-54.png\">"
   ]
  },
  {
   "cell_type": "markdown",
   "metadata": {},
   "source": [
    "Cal veure que els predecessors de les regles són \"125CT\" i \"312CB\" que corresponen al productes:"
   ]
  },
  {
   "cell_type": "markdown",
   "metadata": {},
   "source": [
    "<img src=\"Captura de 2018-01-08 23-30-48.png\">"
   ]
  },
  {
   "cell_type": "markdown",
   "metadata": {},
   "source": [
    "Aquestes regles ens estan dient que qui compra \"Zinfandel 97\" i \"Tiramisú\", també compraran \"Chocolate Truffle\" i \"Cru Beaujlais 98\"."
   ]
  },
  {
   "cell_type": "markdown",
   "metadata": {},
   "source": [
    "<h3>Conclusió Objectiu 1</h3>"
   ]
  },
  {
   "cell_type": "markdown",
   "metadata": {},
   "source": [
    "Si s'incentiva la compra dels productes \"Zinfandel 97\" i \"Tiramisú\", podem incentivar la compra de \"Cru Beaujlais 98\", que té un benefici brut d'uns 20 euros i relatiu quasi del 100%.\n",
    "\n",
    "Així doncs, sense augmentar els costos de compra, podrem augmentar la facturació.\n",
    "\n",
    "Si mirem la base de dades podem veure que tenim un mecanisme de Promocions. El pdríem fer servir per incentivar la compra d'aquests productes."
   ]
  },
  {
   "cell_type": "markdown",
   "metadata": {},
   "source": [
    "<h3>Objectiu 2: Segmentar clients</h3>"
   ]
  },
  {
   "cell_type": "markdown",
   "metadata": {},
   "source": [
    "Un millor coneixement dels clients em pot permetre saber cap a on puc millor dirigir les meves promocions."
   ]
  },
  {
   "cell_type": "markdown",
   "metadata": {},
   "source": [
    "Al notebook \"Clustering de clients\" es pot veure amb detall com &eacute;s el proc&eacute;s."
   ]
  },
  {
   "cell_type": "markdown",
   "metadata": {},
   "source": [
    "<img src=\"Captura de 2018-01-08 23-46-01.png\">"
   ]
  },
  {
   "cell_type": "markdown",
   "metadata": {},
   "source": [
    "El conjunt (1) és el que representa <i>empreses</i>: En \"Estat civil\" el 50% cau en \"Otro\" i en \"Sexe\" el 50% cau a \"Empresa\". El seu total de compres és el més elevat."
   ]
  },
  {
   "cell_type": "markdown",
   "metadata": {},
   "source": [
    "El conjunt (2) és clarament un grup d'<i>homes casats,amb fills per sobre dela mitja (2,6)</i>. El total de compres és baix."
   ]
  },
  {
   "cell_type": "markdown",
   "metadata": {},
   "source": [
    "El conjunt (3) està compost per <i>homes solters</i> i algun <i>casat</i>. És el grup amb el volum de compres més baix. "
   ]
  },
  {
   "cell_type": "markdown",
   "metadata": {},
   "source": [
    "El conjunt (4) l'integren sobretot homes, solters i casats amb pocs fills (0,7). Segurament es correspon amb homes joves amb al poder adquisitiu, ja que el volum de compra és el segon més alt."
   ]
  },
  {
   "cell_type": "markdown",
   "metadata": {},
   "source": [
    "En general sembla que hi ha una correlació entre la regió i el volum de compra.\n",
    "El grup d'empreses també és interessant per l'elevada compra.\n",
    "\n",
    "Les dones no destaquen com a clientes de la cadena Gourmet."
   ]
  }
 ],
 "metadata": {
  "kernelspec": {
   "display_name": "R",
   "language": "R",
   "name": "ir"
  },
  "language_info": {
   "codemirror_mode": "r",
   "file_extension": ".r",
   "mimetype": "text/x-r-source",
   "name": "R",
   "pygments_lexer": "r",
   "version": "3.4.2"
  }
 },
 "nbformat": 4,
 "nbformat_minor": 2
}
