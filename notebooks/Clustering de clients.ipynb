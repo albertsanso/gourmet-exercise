{
 "cells": [
  {
   "cell_type": "markdown",
   "metadata": {},
   "source": [
    "<h1>Clustering de clients</h1>"
   ]
  },
  {
   "cell_type": "code",
   "execution_count": 133,
   "metadata": {},
   "outputs": [
    {
     "data": {
      "text/html": [
       "'LC_CTYPE=C;LC_NUMERIC=C;LC_TIME=C;LC_COLLATE=C;LC_MONETARY=C;LC_MESSAGES=ca_ES.UTF-8;LC_PAPER=ca_ES.UTF-8;LC_NAME=C;LC_ADDRESS=C;LC_TELEPHONE=C;LC_MEASUREMENT=ca_ES.UTF-8;LC_IDENTIFICATION=C'"
      ],
      "text/latex": [
       "'LC\\_CTYPE=C;LC\\_NUMERIC=C;LC\\_TIME=C;LC\\_COLLATE=C;LC\\_MONETARY=C;LC\\_MESSAGES=ca\\_ES.UTF-8;LC\\_PAPER=ca\\_ES.UTF-8;LC\\_NAME=C;LC\\_ADDRESS=C;LC\\_TELEPHONE=C;LC\\_MEASUREMENT=ca\\_ES.UTF-8;LC\\_IDENTIFICATION=C'"
      ],
      "text/markdown": [
       "'LC_CTYPE=C;LC_NUMERIC=C;LC_TIME=C;LC_COLLATE=C;LC_MONETARY=C;LC_MESSAGES=ca_ES.UTF-8;LC_PAPER=ca_ES.UTF-8;LC_NAME=C;LC_ADDRESS=C;LC_TELEPHONE=C;LC_MEASUREMENT=ca_ES.UTF-8;LC_IDENTIFICATION=C'"
      ],
      "text/plain": [
       "[1] \"LC_CTYPE=C;LC_NUMERIC=C;LC_TIME=C;LC_COLLATE=C;LC_MONETARY=C;LC_MESSAGES=ca_ES.UTF-8;LC_PAPER=ca_ES.UTF-8;LC_NAME=C;LC_ADDRESS=C;LC_TELEPHONE=C;LC_MEASUREMENT=ca_ES.UTF-8;LC_IDENTIFICATION=C\""
      ]
     },
     "metadata": {},
     "output_type": "display_data"
    }
   ],
   "source": [
    "library(stats)\n",
    "Sys.setlocale('LC_ALL','C')"
   ]
  },
  {
   "cell_type": "code",
   "execution_count": 138,
   "metadata": {},
   "outputs": [
    {
     "data": {
      "text/html": [
       "<table>\n",
       "<thead><tr><th scope=col>CodCliente</th><th scope=col>NombreCliente</th><th scope=col>Sexo</th><th scope=col>FechaNacimiento</th><th scope=col>EstadoCivil</th><th scope=col>Direccion</th><th scope=col>Profesion</th><th scope=col>NumeroHijos</th><th scope=col>Region</th><th scope=col>Nacionalidad</th><th scope=col>TotalCompras</th><th scope=col>PuntosAcumulados</th></tr></thead>\n",
       "<tbody>\n",
       "\t<tr><td>0000001R                                            </td><td>Roca Sacrist<c3><a1>n Narciso                       </td><td>Hombre                                              </td><td>19551220                                            </td><td>Soltero/a                                           </td><td>Piazzale Suppercortemaggiore 4<c2><a0>, Milano      </td><td>Economistas,Abogados &amp; Admin.Empresas           </td><td>0                                                   </td><td><span style=white-space:pre-wrap>Sur Europa  </span></td><td>Espa<c3><b1>a                                       </td><td> 4                                                  </td><td> 7                                                  </td></tr>\n",
       "\t<tr><td>0065536F                                                                               </td><td><span style=white-space:pre-wrap>Fuentes Mohedano Rosa        </span>                  </td><td><span style=white-space:pre-wrap>Mujer  </span>                                        </td><td>19420108                                                                               </td><td>Casado/a                                                                               </td><td><span style=white-space:pre-wrap>C/ Niza 73 08032 Barcelona                     </span></td><td><span style=white-space:pre-wrap>Ingenieros &amp; Especialistas            </span>     </td><td>1                                                                                      </td><td><span style=white-space:pre-wrap>Sur Europa  </span>                                   </td><td>Espa<c3><b1>a                                                                          </td><td>16                                                                                     </td><td>13                                                                                     </td></tr>\n",
       "\t<tr><td>0065537P                                                                               </td><td><span style=white-space:pre-wrap>Prat Salom Pedro             </span>                  </td><td>Hombre                                                                                 </td><td>19400315                                                                               </td><td>Casado/a                                                                               </td><td><span style=white-space:pre-wrap>corso Vittorio Emanuele, 102 Roma              </span></td><td><span style=white-space:pre-wrap>Doctores &amp; Profesionales de la Salud  </span>     </td><td>2                                                                                      </td><td><span style=white-space:pre-wrap>Sur Europa  </span>                                   </td><td>Espa<c3><b1>a                                                                          </td><td>14                                                                                     </td><td>10                                                                                     </td></tr>\n",
       "\t<tr><td>0000002J                                                                               </td><td><span style=white-space:pre-wrap>Jones Nicholas               </span>                  </td><td>Hombre                                                                                 </td><td>19110808                                                                               </td><td>Soltero/a                                                                              </td><td><span style=white-space:pre-wrap>1 Place de la Sorbonne , 75003 Paris           </span></td><td><span style=white-space:pre-wrap>Ingenieros &amp; Especialistas            </span>     </td><td>0                                                                                      </td><td>Norte Europa                                                                           </td><td><span style=white-space:pre-wrap>Reino Unido  </span>                                  </td><td> 2                                                                                     </td><td> 9                                                                                     </td></tr>\n",
       "\t<tr><td>0000003B                                                                               </td><td><span style=white-space:pre-wrap>Burton Alexander             </span>                  </td><td>Hombre                                                                                 </td><td>19420417                                                                               </td><td>Casado/a                                                                               </td><td><span style=white-space:pre-wrap>46 Stockwell Place ,Liverpool L69 2DH          </span></td><td><span style=white-space:pre-wrap>Doctores &amp; Profesionales de la Salud  </span>     </td><td>2                                                                                      </td><td>Norte Europa                                                                           </td><td><span style=white-space:pre-wrap>Reino Unido  </span>                                  </td><td>13                                                                                     </td><td> 9                                                                                     </td></tr>\n",
       "\t<tr><td>0065538S                                                                               </td><td><span style=white-space:pre-wrap>Sales Deborah                </span>                  </td><td><span style=white-space:pre-wrap>Mujer  </span>                                        </td><td>19410526                                                                               </td><td>Casado/a                                                                               </td><td><span style=white-space:pre-wrap>Leopoldstra<c3><9f>e 44, M<c3><bc>nchen        </span></td><td>Economistas,Abogados &amp; Admin.Empresas                                              </td><td>1                                                                                      </td><td>Norte Europa                                                                           </td><td><span style=white-space:pre-wrap>Reino Unido  </span>                                  </td><td> 7                                                                                     </td><td>11                                                                                     </td></tr>\n",
       "</tbody>\n",
       "</table>\n"
      ],
      "text/latex": [
       "\\begin{tabular}{r|llllllllllll}\n",
       " CodCliente & NombreCliente & Sexo & FechaNacimiento & EstadoCivil & Direccion & Profesion & NumeroHijos & Region & Nacionalidad & TotalCompras & PuntosAcumulados\\\\\n",
       "\\hline\n",
       "\t 0000001R                                        & Roca Sacrist<c3><a1>n Narciso                   & Hombre                                          & 19551220                                        & Soltero/a                                       & Piazzale Suppercortemaggiore 4<c2><a0>, Milano  & Economistas,Abogados \\& Admin.Empresas         & 0                                               & Sur Europa                                      & Espa<c3><b1>a                                   &  4                                              &  7                                             \\\\\n",
       "\t 0065536F                                        & Fuentes Mohedano Rosa                           & Mujer                                           & 19420108                                        & Casado/a                                        & C/ Niza 73 08032 Barcelona                      & Ingenieros \\& Especialistas                    & 1                                               & Sur Europa                                      & Espa<c3><b1>a                                   & 16                                              & 13                                             \\\\\n",
       "\t 0065537P                                        & Prat Salom Pedro                                & Hombre                                          & 19400315                                        & Casado/a                                        & corso Vittorio Emanuele, 102 Roma               & Doctores \\& Profesionales de la Salud          & 2                                               & Sur Europa                                      & Espa<c3><b1>a                                   & 14                                              & 10                                             \\\\\n",
       "\t 0000002J                                        & Jones Nicholas                                  & Hombre                                          & 19110808                                        & Soltero/a                                       & 1 Place de la Sorbonne , 75003 Paris            & Ingenieros \\& Especialistas                    & 0                                               & Norte Europa                                    & Reino Unido                                     &  2                                              &  9                                             \\\\\n",
       "\t 0000003B                                        & Burton Alexander                                & Hombre                                          & 19420417                                        & Casado/a                                        & 46 Stockwell Place ,Liverpool L69 2DH           & Doctores \\& Profesionales de la Salud          & 2                                               & Norte Europa                                    & Reino Unido                                     & 13                                              &  9                                             \\\\\n",
       "\t 0065538S                                        & Sales Deborah                                   & Mujer                                           & 19410526                                        & Casado/a                                        & Leopoldstra<c3><9f>e 44, M<c3><bc>nchen         & Economistas,Abogados \\& Admin.Empresas         & 1                                               & Norte Europa                                    & Reino Unido                                     &  7                                              & 11                                             \\\\\n",
       "\\end{tabular}\n"
      ],
      "text/markdown": [
       "\n",
       "CodCliente | NombreCliente | Sexo | FechaNacimiento | EstadoCivil | Direccion | Profesion | NumeroHijos | Region | Nacionalidad | TotalCompras | PuntosAcumulados | \n",
       "|---|---|---|---|---|---|\n",
       "| 0000001R                                        | Roca Sacrist<c3><a1>n Narciso                   | Hombre                                          | 19551220                                        | Soltero/a                                       | Piazzale Suppercortemaggiore 4<c2><a0>, Milano  | Economistas,Abogados & Admin.Empresas           | 0                                               | Sur Europa                                      | Espa<c3><b1>a                                   |  4                                              |  7                                              | \n",
       "| 0065536F                                        | Fuentes Mohedano Rosa                           | Mujer                                           | 19420108                                        | Casado/a                                        | C/ Niza 73 08032 Barcelona                      | Ingenieros & Especialistas                      | 1                                               | Sur Europa                                      | Espa<c3><b1>a                                   | 16                                              | 13                                              | \n",
       "| 0065537P                                        | Prat Salom Pedro                                | Hombre                                          | 19400315                                        | Casado/a                                        | corso Vittorio Emanuele, 102 Roma               | Doctores & Profesionales de la Salud            | 2                                               | Sur Europa                                      | Espa<c3><b1>a                                   | 14                                              | 10                                              | \n",
       "| 0000002J                                        | Jones Nicholas                                  | Hombre                                          | 19110808                                        | Soltero/a                                       | 1 Place de la Sorbonne , 75003 Paris            | Ingenieros & Especialistas                      | 0                                               | Norte Europa                                    | Reino Unido                                     |  2                                              |  9                                              | \n",
       "| 0000003B                                        | Burton Alexander                                | Hombre                                          | 19420417                                        | Casado/a                                        | 46 Stockwell Place ,Liverpool L69 2DH           | Doctores & Profesionales de la Salud            | 2                                               | Norte Europa                                    | Reino Unido                                     | 13                                              |  9                                              | \n",
       "| 0065538S                                        | Sales Deborah                                   | Mujer                                           | 19410526                                        | Casado/a                                        | Leopoldstra<c3><9f>e 44, M<c3><bc>nchen         | Economistas,Abogados & Admin.Empresas           | 1                                               | Norte Europa                                    | Reino Unido                                     |  7                                              | 11                                              | \n",
       "\n",
       "\n"
      ],
      "text/plain": [
       "  CodCliente NombreCliente                 Sexo    FechaNacimiento EstadoCivil\n",
       "1 0000001R   Roca Sacrist\\303\\241n Narciso Hombre  19551220        Soltero/a  \n",
       "2 0065536F   Fuentes Mohedano Rosa         Mujer   19420108        Casado/a   \n",
       "3 0065537P   Prat Salom Pedro              Hombre  19400315        Casado/a   \n",
       "4 0000002J   Jones Nicholas                Hombre  19110808        Soltero/a  \n",
       "5 0000003B   Burton Alexander              Hombre  19420417        Casado/a   \n",
       "6 0065538S   Sales Deborah                 Mujer   19410526        Casado/a   \n",
       "  Direccion                                      \n",
       "1 Piazzale Suppercortemaggiore 4\\302\\240, Milano \n",
       "2 C/ Niza 73 08032 Barcelona                     \n",
       "3 corso Vittorio Emanuele, 102 Roma              \n",
       "4 1 Place de la Sorbonne , 75003 Paris           \n",
       "5 46 Stockwell Place ,Liverpool L69 2DH          \n",
       "6 Leopoldstra\\303\\237e 44, M\\303\\274nchen        \n",
       "  Profesion                              NumeroHijos Region       Nacionalidad \n",
       "1 Economistas,Abogados & Admin.Empresas  0           Sur Europa   Espa\\303\\261a\n",
       "2 Ingenieros & Especialistas             1           Sur Europa   Espa\\303\\261a\n",
       "3 Doctores & Profesionales de la Salud   2           Sur Europa   Espa\\303\\261a\n",
       "4 Ingenieros & Especialistas             0           Norte Europa Reino Unido  \n",
       "5 Doctores & Profesionales de la Salud   2           Norte Europa Reino Unido  \n",
       "6 Economistas,Abogados & Admin.Empresas  1           Norte Europa Reino Unido  \n",
       "  TotalCompras PuntosAcumulados\n",
       "1  4            7              \n",
       "2 16           13              \n",
       "3 14           10              \n",
       "4  2            9              \n",
       "5 13            9              \n",
       "6  7           11              "
      ]
     },
     "metadata": {},
     "output_type": "display_data"
    }
   ],
   "source": [
    "dsfilename <- \"../data/cliente.cvs\"\n",
    "ds <- read.csv(dsfilename, header=FALSE)\n",
    "colnames(ds) <-c(\"CodCliente\", \"NombreCliente\", \"Sexo\", \"FechaNacimiento\", \"EstadoCivil\", \"Direccion\", \"Profesion\", \"NumeroHijos\", \"Region\", \"Nacionalidad\", \"TotalCompras\", \"PuntosAcumulados\")\n",
    "head(ds)"
   ]
  },
  {
   "cell_type": "code",
   "execution_count": 139,
   "metadata": {},
   "outputs": [
    {
     "name": "stdout",
     "output_type": "stream",
     "text": [
      "'data.frame':\t4069 obs. of  12 variables:\n",
      " $ CodCliente      : Factor w/ 4069 levels \"0000001R\",\"0000002J\",..: 1 64 65 2 3 66 67 128 129 192 ...\n",
      " $ NombreCliente   : Factor w/ 3288 levels \"Acadia\",\"Acedo G\\303\\263mez Agust\\303\\255n \",..: 2581 1031 2437 1491 474 2624 741 668 2762 1969 ...\n",
      " $ Sexo            : Factor w/ 3 levels \"Empresa\",\"Hombre \",..: 2 3 2 2 2 3 2 2 3 2 ...\n",
      " $ FechaNacimiento : int  19551220 19420108 19400315 19110808 19420417 19410526 19641108 19421027 19641114 19390923 ...\n",
      " $ EstadoCivil     : Factor w/ 5 levels \"\",\"Casado/a \",..: 4 2 2 4 2 2 4 2 2 3 ...\n",
      " $ Direccion       : Factor w/ 2544 levels \"0 Castle Street ,Liverpool L69 3BX\",..: 1961 1532 2371 20 936 1845 459 1158 912 1165 ...\n",
      " $ Profesion       : Factor w/ 10 levels \"Alimentaci\\303\\263n\",..: 6 9 5 9 5 6 9 5 6 6 ...\n",
      " $ NumeroHijos     : int  0 1 2 0 2 1 0 0 3 0 ...\n",
      " $ Region          : Factor w/ 3 levels \"Norte Europa\",..: 3 3 3 1 1 1 1 2 2 1 ...\n",
      " $ Nacionalidad    : Factor w/ 3 levels \"Espa\\303\\261a\",..: 1 1 1 3 3 3 3 2 2 3 ...\n",
      " $ TotalCompras    : int  4 16 14 2 13 7 10 2 21 5 ...\n",
      " $ PuntosAcumulados: int  7 13 10 9 9 11 12 6 15 9 ...\n"
     ]
    }
   ],
   "source": [
    "str(ds)"
   ]
  },
  {
   "cell_type": "code",
   "execution_count": 140,
   "metadata": {},
   "outputs": [
    {
     "data": {
      "text/html": [
       "<dl class=dl-horizontal>\n",
       "\t<dt>CodCliente</dt>\n",
       "\t\t<dd>0</dd>\n",
       "\t<dt>NombreCliente</dt>\n",
       "\t\t<dd>0</dd>\n",
       "\t<dt>Sexo</dt>\n",
       "\t\t<dd>0</dd>\n",
       "\t<dt>FechaNacimiento</dt>\n",
       "\t\t<dd>0</dd>\n",
       "\t<dt>EstadoCivil</dt>\n",
       "\t\t<dd>0</dd>\n",
       "\t<dt>Direccion</dt>\n",
       "\t\t<dd>0</dd>\n",
       "\t<dt>Profesion</dt>\n",
       "\t\t<dd>0</dd>\n",
       "\t<dt>NumeroHijos</dt>\n",
       "\t\t<dd>805</dd>\n",
       "\t<dt>Region</dt>\n",
       "\t\t<dd>0</dd>\n",
       "\t<dt>Nacionalidad</dt>\n",
       "\t\t<dd>0</dd>\n",
       "\t<dt>TotalCompras</dt>\n",
       "\t\t<dd>0</dd>\n",
       "\t<dt>PuntosAcumulados</dt>\n",
       "\t\t<dd>0</dd>\n",
       "</dl>\n"
      ],
      "text/latex": [
       "\\begin{description*}\n",
       "\\item[CodCliente] 0\n",
       "\\item[NombreCliente] 0\n",
       "\\item[Sexo] 0\n",
       "\\item[FechaNacimiento] 0\n",
       "\\item[EstadoCivil] 0\n",
       "\\item[Direccion] 0\n",
       "\\item[Profesion] 0\n",
       "\\item[NumeroHijos] 805\n",
       "\\item[Region] 0\n",
       "\\item[Nacionalidad] 0\n",
       "\\item[TotalCompras] 0\n",
       "\\item[PuntosAcumulados] 0\n",
       "\\end{description*}\n"
      ],
      "text/markdown": [
       "CodCliente\n",
       ":   0NombreCliente\n",
       ":   0Sexo\n",
       ":   0FechaNacimiento\n",
       ":   0EstadoCivil\n",
       ":   0Direccion\n",
       ":   0Profesion\n",
       ":   0NumeroHijos\n",
       ":   805Region\n",
       ":   0Nacionalidad\n",
       ":   0TotalCompras\n",
       ":   0PuntosAcumulados\n",
       ":   0\n",
       "\n"
      ],
      "text/plain": [
       "      CodCliente    NombreCliente             Sexo  FechaNacimiento \n",
       "               0                0                0                0 \n",
       "     EstadoCivil        Direccion        Profesion      NumeroHijos \n",
       "               0                0                0              805 \n",
       "          Region     Nacionalidad     TotalCompras PuntosAcumulados \n",
       "               0                0                0                0 "
      ]
     },
     "metadata": {},
     "output_type": "display_data"
    }
   ],
   "source": [
    "sapply(ds, function(x)(sum(is.na(x)))) # NA counts"
   ]
  },
  {
   "cell_type": "code",
   "execution_count": 141,
   "metadata": {},
   "outputs": [
    {
     "data": {
      "text/html": [
       "<dl class=dl-horizontal>\n",
       "\t<dt>CodCliente</dt>\n",
       "\t\t<dd>0</dd>\n",
       "\t<dt>NombreCliente</dt>\n",
       "\t\t<dd>0</dd>\n",
       "\t<dt>Sexo</dt>\n",
       "\t\t<dd>0</dd>\n",
       "\t<dt>FechaNacimiento</dt>\n",
       "\t\t<dd>0</dd>\n",
       "\t<dt>EstadoCivil</dt>\n",
       "\t\t<dd>0</dd>\n",
       "\t<dt>Direccion</dt>\n",
       "\t\t<dd>0</dd>\n",
       "\t<dt>Profesion</dt>\n",
       "\t\t<dd>0</dd>\n",
       "\t<dt>NumeroHijos</dt>\n",
       "\t\t<dd>0</dd>\n",
       "\t<dt>Region</dt>\n",
       "\t\t<dd>0</dd>\n",
       "\t<dt>Nacionalidad</dt>\n",
       "\t\t<dd>0</dd>\n",
       "\t<dt>TotalCompras</dt>\n",
       "\t\t<dd>0</dd>\n",
       "\t<dt>PuntosAcumulados</dt>\n",
       "\t\t<dd>0</dd>\n",
       "</dl>\n"
      ],
      "text/latex": [
       "\\begin{description*}\n",
       "\\item[CodCliente] 0\n",
       "\\item[NombreCliente] 0\n",
       "\\item[Sexo] 0\n",
       "\\item[FechaNacimiento] 0\n",
       "\\item[EstadoCivil] 0\n",
       "\\item[Direccion] 0\n",
       "\\item[Profesion] 0\n",
       "\\item[NumeroHijos] 0\n",
       "\\item[Region] 0\n",
       "\\item[Nacionalidad] 0\n",
       "\\item[TotalCompras] 0\n",
       "\\item[PuntosAcumulados] 0\n",
       "\\end{description*}\n"
      ],
      "text/markdown": [
       "CodCliente\n",
       ":   0NombreCliente\n",
       ":   0Sexo\n",
       ":   0FechaNacimiento\n",
       ":   0EstadoCivil\n",
       ":   0Direccion\n",
       ":   0Profesion\n",
       ":   0NumeroHijos\n",
       ":   0Region\n",
       ":   0Nacionalidad\n",
       ":   0TotalCompras\n",
       ":   0PuntosAcumulados\n",
       ":   0\n",
       "\n"
      ],
      "text/plain": [
       "      CodCliente    NombreCliente             Sexo  FechaNacimiento \n",
       "               0                0                0                0 \n",
       "     EstadoCivil        Direccion        Profesion      NumeroHijos \n",
       "               0                0                0                0 \n",
       "          Region     Nacionalidad     TotalCompras PuntosAcumulados \n",
       "               0                0                0                0 "
      ]
     },
     "metadata": {},
     "output_type": "display_data"
    }
   ],
   "source": [
    "ds$NumeroHijos[is.na(ds$NumeroHijos)] <- 0\n",
    "sapply(ds, function(x)(sum(is.na(x)))) # NA counts"
   ]
  },
  {
   "cell_type": "code",
   "execution_count": 142,
   "metadata": {},
   "outputs": [
    {
     "name": "stdout",
     "output_type": "stream",
     "text": [
      "'data.frame':\t4069 obs. of  12 variables:\n",
      " $ CodCliente      : Factor w/ 4069 levels \"0000001R\",\"0000002J\",..: 1 64 65 2 3 66 67 128 129 192 ...\n",
      " $ NombreCliente   : Factor w/ 3288 levels \"Acadia\",\"Acedo G\\303\\263mez Agust\\303\\255n \",..: 2581 1031 2437 1491 474 2624 741 668 2762 1969 ...\n",
      " $ Sexo            : Factor w/ 3 levels \"Empresa\",\"Hombre \",..: 2 3 2 2 2 3 2 2 3 2 ...\n",
      " $ FechaNacimiento : int  19551220 19420108 19400315 19110808 19420417 19410526 19641108 19421027 19641114 19390923 ...\n",
      " $ EstadoCivil     : Factor w/ 5 levels \"\",\"Casado/a \",..: 4 2 2 4 2 2 4 2 2 3 ...\n",
      " $ Direccion       : Factor w/ 2544 levels \"0 Castle Street ,Liverpool L69 3BX\",..: 1961 1532 2371 20 936 1845 459 1158 912 1165 ...\n",
      " $ Profesion       : Factor w/ 10 levels \"Alimentaci\\303\\263n\",..: 6 9 5 9 5 6 9 5 6 6 ...\n",
      " $ NumeroHijos     : num  0 1 2 0 2 1 0 0 3 0 ...\n",
      " $ Region          : Factor w/ 3 levels \"Norte Europa\",..: 3 3 3 1 1 1 1 2 2 1 ...\n",
      " $ Nacionalidad    : Factor w/ 3 levels \"Espa\\303\\261a\",..: 1 1 1 3 3 3 3 2 2 3 ...\n",
      " $ TotalCompras    : int  4 16 14 2 13 7 10 2 21 5 ...\n",
      " $ PuntosAcumulados: int  7 13 10 9 9 11 12 6 15 9 ...\n"
     ]
    }
   ],
   "source": [
    "str(ds)"
   ]
  },
  {
   "cell_type": "code",
   "execution_count": 144,
   "metadata": {},
   "outputs": [],
   "source": [
    "library(arules)"
   ]
  },
  {
   "cell_type": "markdown",
   "metadata": {},
   "source": [
    "Transformem les dades, discretitzant els valors nominals generant més columns:"
   ]
  },
  {
   "cell_type": "code",
   "execution_count": 145,
   "metadata": {},
   "outputs": [],
   "source": [
    "sexEmpresa <- sapply(as.numeric(ds$Sexo), function(x) {ifelse(any(x == 1), 1, 0)})\n",
    "sexHome <- sapply(as.numeric(ds$Sexo), function(x) {ifelse(any(x == 2), 1, 0)})\n",
    "sexDona <- sapply(as.numeric(ds$Sexo), function(x) {ifelse(any(x == 3), 1, 0)})\n",
    "ecOtro <- sapply(as.numeric(ds$EstadoCivil), function(x) {ifelse(any(x == 1), 1, 0)})\n",
    "ecCasado <- sapply(as.numeric(ds$EstadoCivil), function(x) {ifelse(any(x == 2), 1, 0)})\n",
    "ecDivorciado <- sapply(as.numeric(ds$EstadoCivil), function(x) {ifelse(any(x == 3), 1, 0)})\n",
    "ecSoltero <- sapply(as.numeric(ds$EstadoCivil), function(x) {ifelse(any(x == 4), 1, 0)})\n",
    "ecViudo <- sapply(as.numeric(ds$EstadoCivil), function(x) {ifelse(any(x == 5), 1, 0)})\n",
    "regNorteEuropa <- sapply(as.numeric(ds$Region), function(x) {ifelse(any(x == 1), 1, 0)})\n",
    "regNorteAmerica <- sapply(as.numeric(ds$Regio), function(x) {ifelse(any(x == 2), 1, 0)})\n",
    "regSurEuropa <- sapply(as.numeric(ds$Region), function(x) {ifelse(any(x == 3), 1, 0)})"
   ]
  },
  {
   "cell_type": "markdown",
   "metadata": {},
   "source": [
    "Creem el nostre nou dataset amb la ampliació d'atributs:"
   ]
  },
  {
   "cell_type": "code",
   "execution_count": 146,
   "metadata": {},
   "outputs": [],
   "source": [
    "df <- data.frame('sex_empresa'=sexEmpresa)\n",
    "df['sex_home'] <- sexHome\n",
    "df['sex_dona'] <- sexDona\n",
    "df['ec_otro'] <- ecOtro\n",
    "df['ec_casado'] <- ecCasado\n",
    "df['ec_divorciado'] <- ecDivorciado\n",
    "df['ec_soltero'] <- ecSoltero\n",
    "df['ec_viudo'] <- ecViudo\n",
    "df['reg_norte_europa'] <- regNorteEuropa\n",
    "df['reg_norte_america'] <- regNorteAmerica\n",
    "df['reg_sur_europa'] <- regSurEuropa\n",
    "df['numero_hijos'] <- ds$NumeroHijos\n",
    "df['total_compras'] <- ds$TotalCompras"
   ]
  },
  {
   "cell_type": "code",
   "execution_count": 147,
   "metadata": {},
   "outputs": [
    {
     "data": {
      "text/html": [
       "<table>\n",
       "<thead><tr><th scope=col>sex_empresa</th><th scope=col>sex_home</th><th scope=col>sex_dona</th><th scope=col>ec_otro</th><th scope=col>ec_casado</th><th scope=col>ec_divorciado</th><th scope=col>ec_soltero</th><th scope=col>ec_viudo</th><th scope=col>reg_norte_europa</th><th scope=col>reg_norte_america</th><th scope=col>reg_sur_europa</th><th scope=col>numero_hijos</th><th scope=col>total_compras</th></tr></thead>\n",
       "<tbody>\n",
       "\t<tr><td>0 </td><td>1 </td><td>0 </td><td>0 </td><td>0 </td><td>0 </td><td>1 </td><td>0 </td><td>0 </td><td>0 </td><td>1 </td><td>0 </td><td> 4</td></tr>\n",
       "\t<tr><td>0 </td><td>0 </td><td>1 </td><td>0 </td><td>1 </td><td>0 </td><td>0 </td><td>0 </td><td>0 </td><td>0 </td><td>1 </td><td>1 </td><td>16</td></tr>\n",
       "\t<tr><td>0 </td><td>1 </td><td>0 </td><td>0 </td><td>1 </td><td>0 </td><td>0 </td><td>0 </td><td>0 </td><td>0 </td><td>1 </td><td>2 </td><td>14</td></tr>\n",
       "\t<tr><td>0 </td><td>1 </td><td>0 </td><td>0 </td><td>0 </td><td>0 </td><td>1 </td><td>0 </td><td>1 </td><td>0 </td><td>0 </td><td>0 </td><td> 2</td></tr>\n",
       "\t<tr><td>0 </td><td>1 </td><td>0 </td><td>0 </td><td>1 </td><td>0 </td><td>0 </td><td>0 </td><td>1 </td><td>0 </td><td>0 </td><td>2 </td><td>13</td></tr>\n",
       "\t<tr><td>0 </td><td>0 </td><td>1 </td><td>0 </td><td>1 </td><td>0 </td><td>0 </td><td>0 </td><td>1 </td><td>0 </td><td>0 </td><td>1 </td><td> 7</td></tr>\n",
       "\t<tr><td>0 </td><td>1 </td><td>0 </td><td>0 </td><td>0 </td><td>0 </td><td>1 </td><td>0 </td><td>1 </td><td>0 </td><td>0 </td><td>0 </td><td>10</td></tr>\n",
       "\t<tr><td>0 </td><td>1 </td><td>0 </td><td>0 </td><td>1 </td><td>0 </td><td>0 </td><td>0 </td><td>0 </td><td>1 </td><td>0 </td><td>0 </td><td> 2</td></tr>\n",
       "\t<tr><td>0 </td><td>0 </td><td>1 </td><td>0 </td><td>1 </td><td>0 </td><td>0 </td><td>0 </td><td>0 </td><td>1 </td><td>0 </td><td>3 </td><td>21</td></tr>\n",
       "\t<tr><td>0 </td><td>1 </td><td>0 </td><td>0 </td><td>0 </td><td>1 </td><td>0 </td><td>0 </td><td>1 </td><td>0 </td><td>0 </td><td>0 </td><td> 5</td></tr>\n",
       "</tbody>\n",
       "</table>\n"
      ],
      "text/latex": [
       "\\begin{tabular}{r|lllllllllllll}\n",
       " sex\\_empresa & sex\\_home & sex\\_dona & ec\\_otro & ec\\_casado & ec\\_divorciado & ec\\_soltero & ec\\_viudo & reg\\_norte\\_europa & reg\\_norte\\_america & reg\\_sur\\_europa & numero\\_hijos & total\\_compras\\\\\n",
       "\\hline\n",
       "\t 0  & 1  & 0  & 0  & 0  & 0  & 1  & 0  & 0  & 0  & 1  & 0  &  4\\\\\n",
       "\t 0  & 0  & 1  & 0  & 1  & 0  & 0  & 0  & 0  & 0  & 1  & 1  & 16\\\\\n",
       "\t 0  & 1  & 0  & 0  & 1  & 0  & 0  & 0  & 0  & 0  & 1  & 2  & 14\\\\\n",
       "\t 0  & 1  & 0  & 0  & 0  & 0  & 1  & 0  & 1  & 0  & 0  & 0  &  2\\\\\n",
       "\t 0  & 1  & 0  & 0  & 1  & 0  & 0  & 0  & 1  & 0  & 0  & 2  & 13\\\\\n",
       "\t 0  & 0  & 1  & 0  & 1  & 0  & 0  & 0  & 1  & 0  & 0  & 1  &  7\\\\\n",
       "\t 0  & 1  & 0  & 0  & 0  & 0  & 1  & 0  & 1  & 0  & 0  & 0  & 10\\\\\n",
       "\t 0  & 1  & 0  & 0  & 1  & 0  & 0  & 0  & 0  & 1  & 0  & 0  &  2\\\\\n",
       "\t 0  & 0  & 1  & 0  & 1  & 0  & 0  & 0  & 0  & 1  & 0  & 3  & 21\\\\\n",
       "\t 0  & 1  & 0  & 0  & 0  & 1  & 0  & 0  & 1  & 0  & 0  & 0  &  5\\\\\n",
       "\\end{tabular}\n"
      ],
      "text/markdown": [
       "\n",
       "sex_empresa | sex_home | sex_dona | ec_otro | ec_casado | ec_divorciado | ec_soltero | ec_viudo | reg_norte_europa | reg_norte_america | reg_sur_europa | numero_hijos | total_compras | \n",
       "|---|---|---|---|---|---|---|---|---|---|\n",
       "| 0  | 1  | 0  | 0  | 0  | 0  | 1  | 0  | 0  | 0  | 1  | 0  |  4 | \n",
       "| 0  | 0  | 1  | 0  | 1  | 0  | 0  | 0  | 0  | 0  | 1  | 1  | 16 | \n",
       "| 0  | 1  | 0  | 0  | 1  | 0  | 0  | 0  | 0  | 0  | 1  | 2  | 14 | \n",
       "| 0  | 1  | 0  | 0  | 0  | 0  | 1  | 0  | 1  | 0  | 0  | 0  |  2 | \n",
       "| 0  | 1  | 0  | 0  | 1  | 0  | 0  | 0  | 1  | 0  | 0  | 2  | 13 | \n",
       "| 0  | 0  | 1  | 0  | 1  | 0  | 0  | 0  | 1  | 0  | 0  | 1  |  7 | \n",
       "| 0  | 1  | 0  | 0  | 0  | 0  | 1  | 0  | 1  | 0  | 0  | 0  | 10 | \n",
       "| 0  | 1  | 0  | 0  | 1  | 0  | 0  | 0  | 0  | 1  | 0  | 0  |  2 | \n",
       "| 0  | 0  | 1  | 0  | 1  | 0  | 0  | 0  | 0  | 1  | 0  | 3  | 21 | \n",
       "| 0  | 1  | 0  | 0  | 0  | 1  | 0  | 0  | 1  | 0  | 0  | 0  |  5 | \n",
       "\n",
       "\n"
      ],
      "text/plain": [
       "   sex_empresa sex_home sex_dona ec_otro ec_casado ec_divorciado ec_soltero\n",
       "1  0           1        0        0       0         0             1         \n",
       "2  0           0        1        0       1         0             0         \n",
       "3  0           1        0        0       1         0             0         \n",
       "4  0           1        0        0       0         0             1         \n",
       "5  0           1        0        0       1         0             0         \n",
       "6  0           0        1        0       1         0             0         \n",
       "7  0           1        0        0       0         0             1         \n",
       "8  0           1        0        0       1         0             0         \n",
       "9  0           0        1        0       1         0             0         \n",
       "10 0           1        0        0       0         1             0         \n",
       "   ec_viudo reg_norte_europa reg_norte_america reg_sur_europa numero_hijos\n",
       "1  0        0                0                 1              0           \n",
       "2  0        0                0                 1              1           \n",
       "3  0        0                0                 1              2           \n",
       "4  0        1                0                 0              0           \n",
       "5  0        1                0                 0              2           \n",
       "6  0        1                0                 0              1           \n",
       "7  0        1                0                 0              0           \n",
       "8  0        0                1                 0              0           \n",
       "9  0        0                1                 0              3           \n",
       "10 0        1                0                 0              0           \n",
       "   total_compras\n",
       "1   4           \n",
       "2  16           \n",
       "3  14           \n",
       "4   2           \n",
       "5  13           \n",
       "6   7           \n",
       "7  10           \n",
       "8   2           \n",
       "9  21           \n",
       "10  5           "
      ]
     },
     "metadata": {},
     "output_type": "display_data"
    }
   ],
   "source": [
    "head(df, 10)"
   ]
  },
  {
   "cell_type": "code",
   "execution_count": 148,
   "metadata": {},
   "outputs": [
    {
     "name": "stdout",
     "output_type": "stream",
     "text": [
      "'data.frame':\t4069 obs. of  13 variables:\n",
      " $ sex_empresa      : num  0 0 0 0 0 0 0 0 0 0 ...\n",
      " $ sex_home         : num  1 0 1 1 1 0 1 1 0 1 ...\n",
      " $ sex_dona         : num  0 1 0 0 0 1 0 0 1 0 ...\n",
      " $ ec_otro          : num  0 0 0 0 0 0 0 0 0 0 ...\n",
      " $ ec_casado        : num  0 1 1 0 1 1 0 1 1 0 ...\n",
      " $ ec_divorciado    : num  0 0 0 0 0 0 0 0 0 1 ...\n",
      " $ ec_soltero       : num  1 0 0 1 0 0 1 0 0 0 ...\n",
      " $ ec_viudo         : num  0 0 0 0 0 0 0 0 0 0 ...\n",
      " $ reg_norte_europa : num  0 0 0 1 1 1 1 0 0 1 ...\n",
      " $ reg_norte_america: num  0 0 0 0 0 0 0 1 1 0 ...\n",
      " $ reg_sur_europa   : num  1 1 1 0 0 0 0 0 0 0 ...\n",
      " $ numero_hijos     : num  0 1 2 0 2 1 0 0 3 0 ...\n",
      " $ total_compras    : int  4 16 14 2 13 7 10 2 21 5 ...\n"
     ]
    }
   ],
   "source": [
    "str(df)"
   ]
  },
  {
   "cell_type": "code",
   "execution_count": 149,
   "metadata": {},
   "outputs": [
    {
     "data": {
      "text/html": [
       "<dl class=dl-horizontal>\n",
       "\t<dt>CodCliente</dt>\n",
       "\t\t<dd>0</dd>\n",
       "\t<dt>NombreCliente</dt>\n",
       "\t\t<dd>0</dd>\n",
       "\t<dt>Sexo</dt>\n",
       "\t\t<dd>0</dd>\n",
       "\t<dt>FechaNacimiento</dt>\n",
       "\t\t<dd>0</dd>\n",
       "\t<dt>EstadoCivil</dt>\n",
       "\t\t<dd>0</dd>\n",
       "\t<dt>Direccion</dt>\n",
       "\t\t<dd>0</dd>\n",
       "\t<dt>Profesion</dt>\n",
       "\t\t<dd>0</dd>\n",
       "\t<dt>NumeroHijos</dt>\n",
       "\t\t<dd>0</dd>\n",
       "\t<dt>Region</dt>\n",
       "\t\t<dd>0</dd>\n",
       "\t<dt>Nacionalidad</dt>\n",
       "\t\t<dd>0</dd>\n",
       "\t<dt>TotalCompras</dt>\n",
       "\t\t<dd>0</dd>\n",
       "\t<dt>PuntosAcumulados</dt>\n",
       "\t\t<dd>0</dd>\n",
       "</dl>\n"
      ],
      "text/latex": [
       "\\begin{description*}\n",
       "\\item[CodCliente] 0\n",
       "\\item[NombreCliente] 0\n",
       "\\item[Sexo] 0\n",
       "\\item[FechaNacimiento] 0\n",
       "\\item[EstadoCivil] 0\n",
       "\\item[Direccion] 0\n",
       "\\item[Profesion] 0\n",
       "\\item[NumeroHijos] 0\n",
       "\\item[Region] 0\n",
       "\\item[Nacionalidad] 0\n",
       "\\item[TotalCompras] 0\n",
       "\\item[PuntosAcumulados] 0\n",
       "\\end{description*}\n"
      ],
      "text/markdown": [
       "CodCliente\n",
       ":   0NombreCliente\n",
       ":   0Sexo\n",
       ":   0FechaNacimiento\n",
       ":   0EstadoCivil\n",
       ":   0Direccion\n",
       ":   0Profesion\n",
       ":   0NumeroHijos\n",
       ":   0Region\n",
       ":   0Nacionalidad\n",
       ":   0TotalCompras\n",
       ":   0PuntosAcumulados\n",
       ":   0\n",
       "\n"
      ],
      "text/plain": [
       "      CodCliente    NombreCliente             Sexo  FechaNacimiento \n",
       "               0                0                0                0 \n",
       "     EstadoCivil        Direccion        Profesion      NumeroHijos \n",
       "               0                0                0                0 \n",
       "          Region     Nacionalidad     TotalCompras PuntosAcumulados \n",
       "               0                0                0                0 "
      ]
     },
     "metadata": {},
     "output_type": "display_data"
    }
   ],
   "source": [
    "sapply(ds, function(x)(sum(is.na(x)))) # NA counts"
   ]
  },
  {
   "cell_type": "code",
   "execution_count": 186,
   "metadata": {},
   "outputs": [],
   "source": [
    "mycluster <- kmeans(df, centers=5)"
   ]
  },
  {
   "cell_type": "code",
   "execution_count": 187,
   "metadata": {},
   "outputs": [
    {
     "data": {
      "text/plain": [
       "K-means clustering with 5 clusters of sizes 328, 444, 838, 1190, 1269\n",
       "\n",
       "Cluster means:\n",
       "  sex_empresa  sex_home  sex_dona    ec_otro ec_casado ec_divorciado\n",
       "1  0.49695122 0.3414634 0.1615854 0.49695122 0.2073171     0.1067073\n",
       "2  0.00000000 0.6441441 0.3558559 0.00000000 0.6103604     0.3333333\n",
       "3  0.09785203 0.5727924 0.3293556 0.09785203 0.3114558     0.1491647\n",
       "4  0.27310924 0.4529412 0.2739496 0.27310924 0.2957983     0.1487395\n",
       "5  0.18518519 0.5193065 0.2955083 0.18518519 0.2884161     0.1308117\n",
       "   ec_soltero   ec_viudo reg_norte_europa reg_norte_america reg_sur_europa\n",
       "1 0.164634146 0.02439024        0.5609756         0.2012195      0.2378049\n",
       "2 0.009009009 0.04729730        0.4234234         0.2207207      0.3558559\n",
       "3 0.427207637 0.01431981        0.4140811         0.2219570      0.3639618\n",
       "4 0.269747899 0.01260504        0.4739496         0.2252101      0.3008403\n",
       "5 0.379826635 0.01576044        0.4239559         0.2214342      0.3546099\n",
       "  numero_hijos total_compras\n",
       "1    0.5213415     22.820122\n",
       "2    2.6013514      4.903153\n",
       "3    0.5632458      2.126492\n",
       "4    0.7058824     12.589076\n",
       "5    0.4121355      7.164697\n",
       "\n",
       "Clustering vector:\n",
       "   [1] 3 4 4 3 4 5 4 3 1 5 4 4 3 2 3 5 5 3 2 5 4 5 4 3 4 4 4 5 4 2 3 1 4 4 4 5 2\n",
       "  [38] 5 5 4 3 4 3 4 5 1 4 5 5 1 3 1 3 4 1 4 5 5 3 1 4 5 2 5 5 4 5 2 5 5 5 5 4 4\n",
       "  [75] 1 5 5 3 4 4 5 3 3 4 2 4 5 5 3 4 5 4 5 3 3 5 1 5 2 3 5 5 4 1 5 1 3 3 1 5 4\n",
       " [112] 2 4 4 3 2 3 5 2 3 4 4 5 4 2 3 3 4 4 2 3 5 3 5 5 3 4 4 2 3 3 5 2 1 3 4 4 4\n",
       " [149] 3 5 3 2 4 2 3 4 4 4 5 2 4 4 3 5 2 2 5 3 4 5 5 4 4 5 4 2 2 4 5 2 3 3 4 5 4\n",
       " [186] 2 3 2 5 3 5 5 5 4 3 2 5 4 3 3 5 4 5 5 4 5 5 3 1 4 3 4 4 4 4 1 5 3 2 4 5 4\n",
       " [223] 4 5 3 5 4 5 5 2 1 4 4 4 2 2 5 5 3 4 5 3 1 4 4 4 3 5 4 3 5 5 4 3 5 4 4 5 3\n",
       " [260] 3 4 4 3 4 4 1 5 1 2 3 4 5 3 4 5 1 4 4 3 5 5 4 5 5 3 5 4 3 4 4 5 4 4 5 1 4\n",
       " [297] 3 5 2 5 2 1 4 5 2 3 3 3 3 5 4 4 4 4 3 5 3 4 4 5 2 4 4 2 4 5 5 5 3 2 2 5 4\n",
       " [334] 4 4 3 5 5 5 4 5 3 4 3 3 2 5 4 4 5 5 1 5 5 3 5 1 2 1 3 5 2 4 3 1 5 5 3 5 4\n",
       " [371] 4 3 4 4 2 4 3 4 1 2 3 4 4 5 5 1 4 5 1 4 4 5 4 3 5 4 5 1 4 4 5 4 4 5 5 3 5\n",
       " [408] 1 5 1 5 3 4 3 4 4 4 1 4 5 5 3 4 3 4 4 5 5 3 5 5 5 5 4 3 5 3 5 5 3 3 2 2 3\n",
       " [445] 5 4 3 4 2 4 3 1 2 5 1 5 4 4 3 4 3 5 3 5 5 3 3 3 4 5 1 3 5 2 4 5 3 5 5 5 4\n",
       " [482] 5 3 5 5 5 5 5 5 4 1 3 4 4 3 1 3 5 3 4 3 5 3 4 5 2 2 3 5 4 5 2 2 2 5 2 2 4\n",
       " [519] 5 5 3 4 5 2 4 5 4 4 5 3 3 5 5 5 4 3 4 5 5 3 4 3 4 1 1 5 5 4 3 5 5 5 1 4 5\n",
       " [556] 5 5 3 4 3 3 4 2 3 2 4 5 1 5 4 4 3 4 5 3 2 2 5 4 5 5 2 4 2 3 5 4 5 3 5 2 2\n",
       " [593] 2 4 4 5 1 3 4 5 5 1 4 4 5 4 5 1 4 2 4 5 5 4 3 2 4 5 5 5 4 5 1 2 3 3 4 1 4\n",
       " [630] 4 5 3 2 1 5 5 5 1 4 1 5 5 2 4 5 5 2 2 3 2 2 4 5 3 4 4 4 3 2 2 5 2 3 5 1 5\n",
       " [667] 5 2 3 3 5 5 4 5 4 3 4 5 3 1 5 2 2 4 4 5 3 5 5 4 1 3 3 4 2 2 3 4 1 1 5 5 3\n",
       " [704] 5 1 5 1 1 3 5 5 4 3 5 3 4 3 3 4 2 3 5 4 4 4 4 5 5 4 2 3 5 4 3 4 5 3 4 5 4\n",
       " [741] 4 4 4 3 4 3 5 5 5 5 5 3 2 1 2 5 3 4 4 5 4 2 3 5 5 3 5 3 3 4 4 5 1 3 4 5 5\n",
       " [778] 4 4 5 1 3 4 4 5 3 1 3 5 5 5 3 5 4 3 5 2 2 5 4 4 3 4 5 4 4 5 3 5 2 1 5 3 2\n",
       " [815] 5 5 2 4 3 5 4 2 4 2 5 4 2 4 5 5 4 3 4 4 5 3 5 4 5 4 5 5 2 3 4 4 5 5 4 4 4\n",
       " [852] 4 5 5 3 2 5 5 5 4 4 3 2 3 3 3 4 4 1 3 2 4 1 3 5 2 4 2 2 4 4 4 3 5 5 2 3 1\n",
       " [889] 2 4 1 2 5 4 5 3 4 1 3 5 2 4 3 5 1 3 4 5 5 5 3 4 4 3 2 4 4 4 3 5 5 5 5 1 2\n",
       " [926] 5 2 2 5 1 5 4 4 4 5 4 1 3 4 1 4 4 5 4 4 5 3 5 3 4 5 4 4 3 4 4 3 4 4 5 1 3\n",
       " [963] 5 3 3 5 5 5 4 3 3 2 1 4 5 5 5 4 3 4 5 3 4 5 5 4 5 3 5 3 3 3 4 3 4 2 5 3 3\n",
       "[1000] 2 5 2 4 5 5 5 3 3 3 5 4 2 4 3 3 1 5 5 3 5 3 5 3 3 1 4 5 3 5 3 2 4 5 1 5 4\n",
       "[1037] 5 2 2 5 5 4 4 5 3 1 4 5 4 5 2 5 3 4 4 4 3 5 5 3 5 5 5 3 5 1 4 4 2 5 4 5 5\n",
       "[1074] 4 4 4 2 5 2 3 4 5 4 4 5 4 2 4 5 4 4 5 3 4 4 4 5 1 5 1 4 2 5 4 5 5 4 4 1 4\n",
       "[1111] 3 4 4 5 5 5 4 1 2 5 5 5 4 5 3 2 4 5 5 1 4 3 3 4 2 1 3 5 5 5 2 1 3 3 4 5 4\n",
       "[1148] 3 3 1 5 4 3 4 4 5 5 5 4 4 4 1 4 1 5 3 3 4 3 4 3 3 4 5 3 3 2 1 5 5 4 3 3 4\n",
       "[1185] 1 5 4 4 5 4 4 1 2 5 5 5 3 2 4 4 5 4 3 3 5 3 3 3 5 5 5 3 4 4 3 5 2 3 4 4 2\n",
       "[1222] 3 3 5 3 3 4 1 3 2 4 5 4 3 3 2 5 4 2 5 5 3 5 4 3 5 5 1 4 5 4 1 3 5 3 2 3 5\n",
       "[1259] 4 5 5 4 4 5 4 5 1 4 5 5 5 1 5 5 4 5 3 4 3 3 5 5 2 5 2 4 3 4 2 5 5 5 5 4 2\n",
       "[1296] 5 3 4 4 3 2 4 4 5 3 4 1 1 4 2 2 4 5 5 3 3 4 5 3 3 1 5 1 3 5 5 2 4 5 5 5 4\n",
       "[1333] 1 2 3 5 4 4 3 5 4 4 3 5 3 4 5 2 4 3 5 5 5 4 4 5 1 4 5 3 5 5 4 2 3 3 5 2 5\n",
       "[1370] 2 5 5 4 5 5 2 1 1 5 4 5 5 5 1 4 5 2 5 2 4 5 5 2 4 5 4 5 5 4 3 5 5 5 5 3 5\n",
       "[1407] 3 4 5 3 2 2 5 4 4 5 4 5 3 4 2 5 4 5 2 4 4 4 4 3 4 3 5 5 2 4 2 5 3 5 1 1 5\n",
       "[1444] 1 2 5 5 2 5 2 2 5 3 5 5 5 4 3 4 4 5 5 4 2 5 3 3 5 1 1 5 4 3 4 2 5 1 4 3 4\n",
       "[1481] 4 5 5 5 3 5 4 3 3 5 3 2 4 5 2 3 3 5 2 3 4 3 3 1 5 3 5 4 3 1 2 4 4 3 4 3 5\n",
       "[1518] 3 2 4 4 4 3 4 4 2 4 5 4 3 3 4 1 2 4 4 1 2 4 3 2 3 2 1 4 1 5 5 5 4 4 1 4 4\n",
       "[1555] 1 5 5 4 3 4 5 5 4 5 3 4 5 2 3 4 4 5 5 2 4 4 4 3 4 5 4 5 5 4 4 5 2 5 4 1 4\n",
       "[1592] 3 4 3 3 5 4 4 4 5 5 5 4 3 3 1 5 5 4 5 5 3 1 3 1 3 4 3 3 4 5 3 3 3 4 4 5 3\n",
       "[1629] 4 3 4 4 5 5 2 5 4 5 5 3 1 5 2 5 4 3 4 5 3 3 4 3 5 5 5 4 4 5 4 2 4 4 5 1 3\n",
       "[1666] 5 5 5 5 4 5 5 5 4 4 2 4 2 2 1 5 5 3 4 3 4 4 5 4 3 4 4 4 4 5 2 2 4 5 4 4 3\n",
       "[1703] 4 4 1 2 3 5 1 5 5 3 2 5 3 4 4 3 4 4 4 5 1 4 5 4 5 4 1 4 5 5 3 2 5 2 2 5 3\n",
       "[1740] 4 3 3 4 4 5 5 4 5 3 3 5 5 3 1 3 5 5 2 4 4 5 3 2 3 4 5 3 3 3 4 3 2 4 1 1 4\n",
       "[1777] 3 2 5 5 5 5 4 5 2 5 5 3 4 5 2 1 3 1 4 4 5 2 1 4 4 3 3 5 5 5 5 5 4 5 3 4 4\n",
       "[1814] 1 3 3 5 3 3 5 4 4 5 5 3 3 4 1 5 5 5 5 4 1 4 5 2 1 3 2 1 3 3 5 4 4 3 3 1 5\n",
       "[1851] 4 2 5 3 5 4 2 4 5 5 5 5 4 4 2 4 5 3 4 4 4 5 4 3 1 4 3 4 1 3 2 2 1 4 1 3 5\n",
       "[1888] 5 3 4 4 3 2 1 5 5 2 5 4 5 5 5 4 5 5 4 4 2 5 4 3 5 4 4 2 3 2 5 1 4 4 4 2 5\n",
       "[1925] 4 4 4 5 5 4 4 2 3 5 5 5 5 1 3 3 2 2 5 5 3 3 2 3 5 5 4 4 2 2 3 5 3 1 2 1 5\n",
       "[1962] 4 3 4 4 4 3 3 4 3 2 1 2 5 5 4 3 3 3 5 4 5 4 3 3 4 3 5 4 3 3 5 3 4 4 3 5 4\n",
       "[1999] 3 2 4 5 5 5 4 2 3 5 4 5 2 3 4 5 5 2 1 4 5 4 5 4 5 4 5 5 3 4 4 4 5 5 4 3 5\n",
       "[2036] 5 4 1 5 4 2 2 3 4 3 4 1 2 5 4 2 5 5 3 3 2 1 2 5 5 5 4 5 4 1 1 1 4 4 4 5 4\n",
       "[2073] 5 2 3 5 4 4 3 1 5 3 5 5 5 4 3 3 5 2 2 2 5 5 5 5 1 5 4 3 3 4 5 4 4 3 5 3 5\n",
       "[2110] 5 5 2 5 3 1 5 3 4 3 2 5 5 3 2 1 1 4 4 5 5 5 4 5 1 1 3 5 5 5 5 3 5 5 2 4 5\n",
       "[2147] 4 3 3 3 1 5 4 5 2 4 5 5 5 5 4 5 3 2 5 4 3 3 4 4 5 3 2 5 1 4 4 5 3 1 3 1 3\n",
       "[2184] 5 3 4 4 3 5 5 4 2 3 5 3 5 3 5 4 5 2 4 5 3 1 5 4 5 3 5 4 4 4 5 1 4 1 4 4 5\n",
       "[2221] 2 5 4 4 3 4 5 3 3 2 4 3 5 2 5 3 3 3 3 4 3 4 5 5 3 4 5 1 5 5 4 4 2 2 4 4 4\n",
       "[2258] 3 5 5 3 3 2 1 3 4 4 5 2 3 4 4 3 5 3 4 3 2 4 5 3 4 5 5 2 1 4 5 5 5 4 3 4 5\n",
       "[2295] 4 4 2 4 4 5 5 3 5 4 2 3 5 1 4 3 3 2 3 1 5 5 2 4 4 5 2 5 4 2 5 1 4 5 3 3 5\n",
       "[2332] 4 1 5 2 3 3 4 1 5 4 5 4 5 3 4 3 5 2 5 4 4 3 4 5 3 5 5 2 3 5 4 2 4 4 5 4 3\n",
       "[2369] 5 4 1 5 5 5 3 4 1 3 4 5 3 5 1 5 4 4 4 5 3 5 5 4 3 5 4 3 4 4 2 1 4 5 1 5 4\n",
       "[2406] 2 5 5 5 4 3 4 3 4 3 3 4 5 5 4 4 4 5 4 4 3 4 5 5 3 4 1 5 4 5 4 5 5 2 1 2 5\n",
       "[2443] 5 3 5 5 3 1 2 4 4 5 5 5 5 3 2 4 2 5 4 2 4 1 3 4 5 3 1 4 3 3 4 4 4 4 4 2 5\n",
       "[2480] 3 3 5 2 4 5 5 5 4 3 4 3 4 1 3 5 1 4 4 3 5 3 2 4 4 2 4 2 2 3 2 3 5 4 2 4 4\n",
       "[2517] 4 5 3 5 4 3 4 3 3 5 3 4 3 5 3 3 5 5 4 5 5 5 3 5 5 1 2 5 3 5 2 3 4 5 4 1 4\n",
       "[2554] 3 4 1 2 4 3 4 3 2 3 3 3 5 5 5 4 5 4 4 5 3 4 5 4 5 4 5 5 4 4 5 5 4 3 1 3 4\n",
       "[2591] 3 5 3 4 5 5 4 4 4 4 5 1 5 4 5 5 1 5 4 4 4 5 2 4 4 5 5 4 5 4 5 4 4 4 4 5 5\n",
       "[2628] 3 3 3 5 5 1 5 4 5 2 5 3 3 5 3 3 5 3 3 5 4 3 1 5 2 4 5 5 1 3 2 5 2 4 5 2 5\n",
       "[2665] 4 5 4 5 5 5 5 5 2 4 4 3 2 1 3 5 4 4 5 2 5 1 4 5 4 5 3 2 4 1 1 5 4 5 2 2 5\n",
       "[2702] 4 4 5 3 3 5 5 2 5 4 3 4 4 2 3 2 1 4 3 3 4 3 4 4 4 4 1 5 3 3 5 1 1 4 4 1 2\n",
       "[2739] 4 3 1 4 2 4 1 4 4 4 1 1 3 4 3 1 2 3 2 2 5 1 4 4 3 4 5 5 5 4 5 5 3 4 1 4 5\n",
       "[2776] 2 4 4 1 1 4 4 2 1 2 2 2 3 5 2 1 4 4 4 2 4 5 4 5 5 5 5 2 5 4 4 4 4 4 5 2 4\n",
       "[2813] 3 3 5 2 4 5 3 5 4 4 3 4 5 2 5 4 5 3 3 2 1 3 5 5 5 4 5 4 4 4 2 3 5 3 5 5 4\n",
       "[2850] 4 5 3 3 5 5 4 1 3 5 4 5 5 3 5 5 4 3 4 5 5 4 2 1 1 2 5 1 4 1 4 3 4 4 5 1 4\n",
       "[2887] 2 5 2 1 3 5 5 5 4 5 4 3 3 4 5 5 4 5 4 2 5 3 3 4 4 4 5 5 5 4 5 5 1 4 5 4 3\n",
       "[2924] 5 1 3 5 5 2 4 3 5 5 3 4 5 4 1 4 3 5 5 4 4 4 5 4 5 4 5 5 4 2 1 4 4 4 4 3 5\n",
       "[2961] 2 5 3 3 5 4 5 5 2 3 2 3 4 4 4 4 5 4 5 5 5 1 5 5 5 3 4 4 2 4 4 5 5 4 3 3 5\n",
       "[2998] 4 1 4 4 1 4 4 4 5 5 5 1 3 5 3 4 4 4 4 4 4 5 2 5 4 4 3 3 2 2 3 4 1 4 4 4 5\n",
       "[3035] 5 4 2 4 2 4 2 4 4 2 5 1 5 1 3 5 4 5 5 5 3 4 3 4 5 5 2 4 2 4 3 4 5 4 4 2 3\n",
       "[3072] 1 5 3 4 4 5 5 5 3 4 5 4 5 2 4 4 4 4 2 5 5 5 5 3 3 5 3 4 5 4 5 4 1 3 5 5 3\n",
       "[3109] 4 5 5 4 5 4 3 1 5 4 5 5 3 2 3 3 5 4 3 1 3 5 3 5 5 3 4 4 4 5 5 4 4 5 5 4 5\n",
       "[3146] 5 5 3 1 5 4 5 4 5 3 3 5 4 3 3 3 4 3 2 4 4 4 4 5 5 5 4 3 3 3 4 5 5 5 4 4 4\n",
       "[3183] 2 3 5 2 4 3 4 5 4 1 5 5 4 5 2 2 3 3 5 3 4 3 5 2 3 3 3 4 4 2 5 5 5 3 4 4 1\n",
       "[3220] 3 2 4 5 3 5 1 4 5 2 3 5 5 4 3 4 3 2 5 3 3 5 4 2 5 4 5 5 2 3 1 3 1 3 3 5 5\n",
       "[3257] 3 4 5 5 5 5 4 3 5 5 5 4 3 2 5 5 4 5 3 5 5 5 4 5 4 5 3 5 3 4 5 4 2 2 1 1 4\n",
       "[3294] 3 5 4 5 3 5 5 4 3 2 3 3 4 5 3 4 5 3 3 2 5 4 5 3 4 4 4 2 4 3 5 4 5 3 5 4 5\n",
       "[3331] 3 4 2 4 4 5 3 5 1 3 4 5 5 5 5 2 5 5 4 5 5 2 2 5 5 1 3 3 3 5 2 5 2 4 5 4 5\n",
       "[3368] 4 1 2 5 4 4 4 4 4 3 1 4 3 2 5 2 4 4 4 4 4 5 5 5 1 5 4 3 5 5 2 2 3 4 5 1 5\n",
       "[3405] 3 4 5 2 4 1 2 5 4 4 4 4 4 2 2 2 2 4 5 3 5 4 5 3 1 3 2 5 5 4 5 3 5 4 3 5 4\n",
       "[3442] 2 3 4 4 2 3 2 5 3 5 4 5 5 3 4 5 5 3 5 5 1 2 5 4 3 2 2 3 5 5 5 1 3 3 5 2 2\n",
       "[3479] 3 2 4 4 5 3 5 1 1 5 4 3 1 2 5 5 3 3 5 4 4 5 5 1 2 5 3 4 3 4 5 5 4 5 2 4 1\n",
       "[3516] 3 3 5 1 5 5 2 3 5 5 5 5 4 5 3 1 3 4 4 4 1 4 3 4 5 3 2 5 4 2 4 4 4 3 1 2 4\n",
       "[3553] 4 4 5 4 1 2 1 1 4 4 3 4 3 1 3 1 5 1 5 5 5 1 5 3 5 3 5 4 3 4 1 3 2 3 3 2 5\n",
       "[3590] 3 5 4 4 3 2 3 4 3 2 4 5 4 2 3 5 2 2 5 1 4 3 3 4 4 5 5 5 4 5 3 5 3 5 5 4 1\n",
       "[3627] 4 3 4 4 1 4 4 3 1 3 5 5 4 2 4 3 2 1 2 3 2 4 4 3 5 2 4 4 4 5 2 2 5 5 5 1 5\n",
       "[3664] 2 5 4 5 1 4 5 5 4 5 5 5 3 5 3 5 4 5 4 3 5 5 4 2 3 1 5 4 3 5 2 5 4 5 5 2 5\n",
       "[3701] 2 5 4 4 5 5 4 5 3 3 4 4 4 5 3 4 4 3 5 5 4 3 2 4 3 5 1 1 1 5 4 4 3 3 4 1 5\n",
       "[3738] 1 5 5 4 5 2 4 3 3 3 3 3 4 4 5 2 3 3 4 1 3 3 5 3 5 5 4 4 5 5 3 4 4 5 1 4 4\n",
       "[3775] 4 1 5 2 4 4 2 4 4 5 3 5 4 1 5 2 5 4 4 1 4 5 5 4 3 4 3 2 3 2 3 5 3 5 3 1 2\n",
       "[3812] 5 3 4 4 4 5 4 5 3 5 5 5 5 4 4 2 4 4 3 4 3 4 5 5 3 3 4 5 3 1 2 2 1 4 3 3 2\n",
       "[3849] 4 2 4 1 4 3 5 1 2 4 5 3 3 3 3 5 3 5 1 4 5 4 5 2 4 5 4 3 3 3 4 5 5 3 5 4 4\n",
       "[3886] 5 5 3 4 4 4 3 4 3 4 3 5 4 4 2 3 4 5 3 2 4 4 3 1 1 5 4 3 5 5 4 2 3 5 4 4 1\n",
       "[3923] 3 5 4 5 4 4 4 5 5 4 5 5 5 5 5 1 5 3 3 4 5 3 3 4 4 3 3 3 5 4 4 2 5 3 4 2 4\n",
       "[3960] 2 3 4 2 3 5 4 4 1 3 5 4 1 3 4 3 2 4 5 2 5 4 4 4 2 5 5 1 5 5 3 3 4 3 5 1 5\n",
       "[3997] 4 1 5 5 1 5 1 3 1 1 4 3 3 4 4 4 3 3 1 1 5 1 4 5 3 4 2 5 1 4 3 3 1 3 4 5 5\n",
       "[4034] 3 5 3 2 5 4 5 2 4 1 3 4 1 3 3 4 4 2 3 4 4 3 1 5 4 3 5 2 1 3 3 3 5 5 5 2\n",
       "\n",
       "Within cluster sum of squares by cluster:\n",
       "[1] 9653.457 1659.595 3991.823 9443.562 5742.403\n",
       " (between_SS / total_SS =  81.1 %)\n",
       "\n",
       "Available components:\n",
       "\n",
       "[1] \"cluster\"      \"centers\"      \"totss\"        \"withinss\"     \"tot.withinss\"\n",
       "[6] \"betweenss\"    \"size\"         \"iter\"         \"ifault\"      "
      ]
     },
     "metadata": {},
     "output_type": "display_data"
    }
   ],
   "source": [
    "mycluster"
   ]
  },
  {
   "cell_type": "code",
   "execution_count": 189,
   "metadata": {},
   "outputs": [
    {
     "data": {
      "text/html": [
       "<table>\n",
       "<thead><tr><th></th><th scope=col>sex_empresa</th><th scope=col>sex_home</th><th scope=col>sex_dona</th><th scope=col>ec_otro</th><th scope=col>ec_casado</th><th scope=col>ec_divorciado</th><th scope=col>ec_soltero</th><th scope=col>ec_viudo</th><th scope=col>reg_norte_europa</th><th scope=col>reg_norte_america</th><th scope=col>reg_sur_europa</th><th scope=col>numero_hijos</th><th scope=col>total_compras</th></tr></thead>\n",
       "<tbody>\n",
       "\t<tr><th scope=row>1</th><td>0.49695122 </td><td>0.3414634  </td><td>0.1615854  </td><td>0.49695122 </td><td>0.2073171  </td><td>0.1067073  </td><td>0.164634146</td><td>0.02439024 </td><td>0.5609756  </td><td>0.2012195  </td><td>0.2378049  </td><td>0.5213415  </td><td>22.820122  </td></tr>\n",
       "\t<tr><th scope=row>2</th><td>0.00000000 </td><td>0.6441441  </td><td>0.3558559  </td><td>0.00000000 </td><td>0.6103604  </td><td>0.3333333  </td><td>0.009009009</td><td>0.04729730 </td><td>0.4234234  </td><td>0.2207207  </td><td>0.3558559  </td><td>2.6013514  </td><td> 4.903153  </td></tr>\n",
       "\t<tr><th scope=row>3</th><td>0.09785203 </td><td>0.5727924  </td><td>0.3293556  </td><td>0.09785203 </td><td>0.3114558  </td><td>0.1491647  </td><td>0.427207637</td><td>0.01431981 </td><td>0.4140811  </td><td>0.2219570  </td><td>0.3639618  </td><td>0.5632458  </td><td> 2.126492  </td></tr>\n",
       "\t<tr><th scope=row>4</th><td>0.27310924 </td><td>0.4529412  </td><td>0.2739496  </td><td>0.27310924 </td><td>0.2957983  </td><td>0.1487395  </td><td>0.269747899</td><td>0.01260504 </td><td>0.4739496  </td><td>0.2252101  </td><td>0.3008403  </td><td>0.7058824  </td><td>12.589076  </td></tr>\n",
       "\t<tr><th scope=row>5</th><td>0.18518519 </td><td>0.5193065  </td><td>0.2955083  </td><td>0.18518519 </td><td>0.2884161  </td><td>0.1308117  </td><td>0.379826635</td><td>0.01576044 </td><td>0.4239559  </td><td>0.2214342  </td><td>0.3546099  </td><td>0.4121355  </td><td> 7.164697  </td></tr>\n",
       "</tbody>\n",
       "</table>\n"
      ],
      "text/latex": [
       "\\begin{tabular}{r|lllllllllllll}\n",
       "  & sex\\_empresa & sex\\_home & sex\\_dona & ec\\_otro & ec\\_casado & ec\\_divorciado & ec\\_soltero & ec\\_viudo & reg\\_norte\\_europa & reg\\_norte\\_america & reg\\_sur\\_europa & numero\\_hijos & total\\_compras\\\\\n",
       "\\hline\n",
       "\t1 & 0.49695122  & 0.3414634   & 0.1615854   & 0.49695122  & 0.2073171   & 0.1067073   & 0.164634146 & 0.02439024  & 0.5609756   & 0.2012195   & 0.2378049   & 0.5213415   & 22.820122  \\\\\n",
       "\t2 & 0.00000000  & 0.6441441   & 0.3558559   & 0.00000000  & 0.6103604   & 0.3333333   & 0.009009009 & 0.04729730  & 0.4234234   & 0.2207207   & 0.3558559   & 2.6013514   &  4.903153  \\\\\n",
       "\t3 & 0.09785203  & 0.5727924   & 0.3293556   & 0.09785203  & 0.3114558   & 0.1491647   & 0.427207637 & 0.01431981  & 0.4140811   & 0.2219570   & 0.3639618   & 0.5632458   &  2.126492  \\\\\n",
       "\t4 & 0.27310924  & 0.4529412   & 0.2739496   & 0.27310924  & 0.2957983   & 0.1487395   & 0.269747899 & 0.01260504  & 0.4739496   & 0.2252101   & 0.3008403   & 0.7058824   & 12.589076  \\\\\n",
       "\t5 & 0.18518519  & 0.5193065   & 0.2955083   & 0.18518519  & 0.2884161   & 0.1308117   & 0.379826635 & 0.01576044  & 0.4239559   & 0.2214342   & 0.3546099   & 0.4121355   &  7.164697  \\\\\n",
       "\\end{tabular}\n"
      ],
      "text/markdown": [
       "\n",
       "| <!--/--> | sex_empresa | sex_home | sex_dona | ec_otro | ec_casado | ec_divorciado | ec_soltero | ec_viudo | reg_norte_europa | reg_norte_america | reg_sur_europa | numero_hijos | total_compras | \n",
       "|---|---|---|---|---|\n",
       "| 1 | 0.49695122  | 0.3414634   | 0.1615854   | 0.49695122  | 0.2073171   | 0.1067073   | 0.164634146 | 0.02439024  | 0.5609756   | 0.2012195   | 0.2378049   | 0.5213415   | 22.820122   | \n",
       "| 2 | 0.00000000  | 0.6441441   | 0.3558559   | 0.00000000  | 0.6103604   | 0.3333333   | 0.009009009 | 0.04729730  | 0.4234234   | 0.2207207   | 0.3558559   | 2.6013514   |  4.903153   | \n",
       "| 3 | 0.09785203  | 0.5727924   | 0.3293556   | 0.09785203  | 0.3114558   | 0.1491647   | 0.427207637 | 0.01431981  | 0.4140811   | 0.2219570   | 0.3639618   | 0.5632458   |  2.126492   | \n",
       "| 4 | 0.27310924  | 0.4529412   | 0.2739496   | 0.27310924  | 0.2957983   | 0.1487395   | 0.269747899 | 0.01260504  | 0.4739496   | 0.2252101   | 0.3008403   | 0.7058824   | 12.589076   | \n",
       "| 5 | 0.18518519  | 0.5193065   | 0.2955083   | 0.18518519  | 0.2884161   | 0.1308117   | 0.379826635 | 0.01576044  | 0.4239559   | 0.2214342   | 0.3546099   | 0.4121355   |  7.164697   | \n",
       "\n",
       "\n"
      ],
      "text/plain": [
       "  sex_empresa sex_home  sex_dona  ec_otro    ec_casado ec_divorciado\n",
       "1 0.49695122  0.3414634 0.1615854 0.49695122 0.2073171 0.1067073    \n",
       "2 0.00000000  0.6441441 0.3558559 0.00000000 0.6103604 0.3333333    \n",
       "3 0.09785203  0.5727924 0.3293556 0.09785203 0.3114558 0.1491647    \n",
       "4 0.27310924  0.4529412 0.2739496 0.27310924 0.2957983 0.1487395    \n",
       "5 0.18518519  0.5193065 0.2955083 0.18518519 0.2884161 0.1308117    \n",
       "  ec_soltero  ec_viudo   reg_norte_europa reg_norte_america reg_sur_europa\n",
       "1 0.164634146 0.02439024 0.5609756        0.2012195         0.2378049     \n",
       "2 0.009009009 0.04729730 0.4234234        0.2207207         0.3558559     \n",
       "3 0.427207637 0.01431981 0.4140811        0.2219570         0.3639618     \n",
       "4 0.269747899 0.01260504 0.4739496        0.2252101         0.3008403     \n",
       "5 0.379826635 0.01576044 0.4239559        0.2214342         0.3546099     \n",
       "  numero_hijos total_compras\n",
       "1 0.5213415    22.820122    \n",
       "2 2.6013514     4.903153    \n",
       "3 0.5632458     2.126492    \n",
       "4 0.7058824    12.589076    \n",
       "5 0.4121355     7.164697    "
      ]
     },
     "metadata": {},
     "output_type": "display_data"
    }
   ],
   "source": [
    "mycluster$centers"
   ]
  },
  {
   "cell_type": "code",
   "execution_count": null,
   "metadata": {
    "collapsed": true
   },
   "outputs": [],
   "source": []
  }
 ],
 "metadata": {
  "kernelspec": {
   "display_name": "R",
   "language": "R",
   "name": "ir"
  },
  "language_info": {
   "codemirror_mode": "r",
   "file_extension": ".r",
   "mimetype": "text/x-r-source",
   "name": "R",
   "pygments_lexer": "r",
   "version": "3.4.2"
  }
 },
 "nbformat": 4,
 "nbformat_minor": 2
}
