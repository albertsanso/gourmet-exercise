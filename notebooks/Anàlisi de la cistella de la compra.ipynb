{
 "cells": [
  {
   "cell_type": "markdown",
   "metadata": {},
   "source": [
    "<h1>Anàlisi de la cistella de la compra</h1>"
   ]
  },
  {
   "cell_type": "code",
   "execution_count": 1,
   "metadata": {},
   "outputs": [
    {
     "data": {
      "text/html": [
       "<table>\n",
       "<thead><tr><th scope=col>CodLinea</th><th scope=col>CodVenta_id</th><th scope=col>NombreTienda</th><th scope=col>CodProducto_id</th><th scope=col>Cantidad</th><th scope=col>PrecioVenta</th><th scope=col>NombrePromocion_id</th><th scope=col>CodCabecera</th></tr></thead>\n",
       "<tbody>\n",
       "\t<tr><td>1        </td><td>RO0196608</td><td>Roma     </td><td>123CB    </td><td>1        </td><td> 3.990   </td><td>         </td><td>13641    </td></tr>\n",
       "\t<tr><td>1        </td><td>RO0196609</td><td>Roma     </td><td>267BP    </td><td>1        </td><td> 8.800   </td><td>         </td><td>13642    </td></tr>\n",
       "\t<tr><td>2        </td><td>RO0065539</td><td>Roma     </td><td>079MA    </td><td>1        </td><td> 4.975   </td><td>         </td><td>13638    </td></tr>\n",
       "\t<tr><td>3        </td><td>RO0065539</td><td>Roma     </td><td>158TR    </td><td>2        </td><td>11.450   </td><td>         </td><td>13638    </td></tr>\n",
       "\t<tr><td>4        </td><td>RO0065539</td><td>Roma     </td><td>283BC    </td><td>2        </td><td>29.950   </td><td>         </td><td>13638    </td></tr>\n",
       "\t<tr><td>1        </td><td>RO0131072</td><td>Roma     </td><td>208ME    </td><td>1        </td><td>26.200   </td><td>         </td><td>13639    </td></tr>\n",
       "</tbody>\n",
       "</table>\n"
      ],
      "text/latex": [
       "\\begin{tabular}{r|llllllll}\n",
       " CodLinea & CodVenta\\_id & NombreTienda & CodProducto\\_id & Cantidad & PrecioVenta & NombrePromocion\\_id & CodCabecera\\\\\n",
       "\\hline\n",
       "\t 1         & RO0196608 & Roma      & 123CB     & 1         &  3.990    &           & 13641    \\\\\n",
       "\t 1         & RO0196609 & Roma      & 267BP     & 1         &  8.800    &           & 13642    \\\\\n",
       "\t 2         & RO0065539 & Roma      & 079MA     & 1         &  4.975    &           & 13638    \\\\\n",
       "\t 3         & RO0065539 & Roma      & 158TR     & 2         & 11.450    &           & 13638    \\\\\n",
       "\t 4         & RO0065539 & Roma      & 283BC     & 2         & 29.950    &           & 13638    \\\\\n",
       "\t 1         & RO0131072 & Roma      & 208ME     & 1         & 26.200    &           & 13639    \\\\\n",
       "\\end{tabular}\n"
      ],
      "text/markdown": [
       "\n",
       "CodLinea | CodVenta_id | NombreTienda | CodProducto_id | Cantidad | PrecioVenta | NombrePromocion_id | CodCabecera | \n",
       "|---|---|---|---|---|---|\n",
       "| 1         | RO0196608 | Roma      | 123CB     | 1         |  3.990    |           | 13641     | \n",
       "| 1         | RO0196609 | Roma      | 267BP     | 1         |  8.800    |           | 13642     | \n",
       "| 2         | RO0065539 | Roma      | 079MA     | 1         |  4.975    |           | 13638     | \n",
       "| 3         | RO0065539 | Roma      | 158TR     | 2         | 11.450    |           | 13638     | \n",
       "| 4         | RO0065539 | Roma      | 283BC     | 2         | 29.950    |           | 13638     | \n",
       "| 1         | RO0131072 | Roma      | 208ME     | 1         | 26.200    |           | 13639     | \n",
       "\n",
       "\n"
      ],
      "text/plain": [
       "  CodLinea CodVenta_id NombreTienda CodProducto_id Cantidad PrecioVenta\n",
       "1 1        RO0196608   Roma         123CB          1         3.990     \n",
       "2 1        RO0196609   Roma         267BP          1         8.800     \n",
       "3 2        RO0065539   Roma         079MA          1         4.975     \n",
       "4 3        RO0065539   Roma         158TR          2        11.450     \n",
       "5 4        RO0065539   Roma         283BC          2        29.950     \n",
       "6 1        RO0131072   Roma         208ME          1        26.200     \n",
       "  NombrePromocion_id CodCabecera\n",
       "1                    13641      \n",
       "2                    13642      \n",
       "3                    13638      \n",
       "4                    13638      \n",
       "5                    13638      \n",
       "6                    13639      "
      ]
     },
     "metadata": {},
     "output_type": "display_data"
    }
   ],
   "source": [
    "dsfilename <- \"../data/lineasticket.cvs\"\n",
    "ds <- read.csv(dsfilename, header=FALSE)\n",
    "colnames(ds) <-c(\"CodLinea\", \"CodVenta_id\", \"NombreTienda\", \"CodProducto_id\", \"Cantidad\", \"PrecioVenta\", \"NombrePromocion_id\", \"CodCabecera\")\n",
    "head(ds)"
   ]
  },
  {
   "cell_type": "code",
   "execution_count": 2,
   "metadata": {},
   "outputs": [
    {
     "name": "stdout",
     "output_type": "stream",
     "text": [
      "'data.frame':\t174671 obs. of  8 variables:\n",
      " $ CodLinea          : int  1 1 2 3 4 1 2 1 1 1 ...\n",
      " $ CodVenta_id       : Factor w/ 74327 levels \"BA0000000\",\"BA0000001\",..: 69474 69475 69269 69269 69269 69370 69370 69371 48961 48962 ...\n",
      " $ NombreTienda      : Factor w/ 15 levels \"Barcelona \",\"Florencia \",..: 15 15 15 15 15 15 15 15 11 11 ...\n",
      " $ CodProducto_id    : Factor w/ 338 levels \"001CH \",\"002CO \",..: 123 266 79 158 281 208 81 63 178 79 ...\n",
      " $ Cantidad          : int  1 1 1 2 2 1 1 2 1 1 ...\n",
      " $ PrecioVenta       : num  3.99 8.8 4.97 11.45 29.95 ...\n",
      " $ NombrePromocion_id: Factor w/ 6 levels \"\",\"Carquiñolis-GranReserva \",..: 1 1 1 1 1 1 1 1 1 1 ...\n",
      " $ CodCabecera       : int  13641 13642 13638 13638 13638 13639 13639 13640 13645 13646 ...\n"
     ]
    }
   ],
   "source": [
    "str(ds)"
   ]
  },
  {
   "cell_type": "code",
   "execution_count": 3,
   "metadata": {},
   "outputs": [
    {
     "data": {
      "text/plain": [
       "    CodLinea         CodVenta_id           NombreTienda   CodProducto_id  \n",
       " Min.   : 1.000   M15505039:    15   Londres I   :29803   022CA  :  6409  \n",
       " 1st Qu.: 1.000   M12031696:    14   Manhattan I :23642   125CT  :  6158  \n",
       " Median : 2.000   L13801129:    13   Londres II  :15367   122TI  :  5448  \n",
       " Mean   : 2.135   M12883623:    13   Milán       :14618   262BO  :  5060  \n",
       " 3rd Qu.: 3.000   M13407976:    13   Munich      :13207   145TG  :  4922  \n",
       " Max.   :15.000   MB1048604:    13   París I     :12806   283BC  :  4752  \n",
       "                  (Other)  :174590   (Other)     :65228   (Other):141922  \n",
       "    Cantidad      PrecioVenta                     NombrePromocion_id\n",
       " Min.   :1.000   Min.   :  0.000                           :172922  \n",
       " 1st Qu.:1.000   1st Qu.:  5.725   Carquiñolis-GranReserva :     3  \n",
       " Median :1.000   Median :  9.588   Chocolate-Champagne     :   117  \n",
       " Mean   :1.329   Mean   : 14.454   Mahon-Chardonnay        :   109  \n",
       " 3rd Qu.:1.000   3rd Qu.: 19.380   Merlot Introduction     :   876  \n",
       " Max.   :7.000   Max.   :899.000   Semillon 5%             :   644  \n",
       "                                                                    \n",
       "  CodCabecera   \n",
       " Min.   :13527  \n",
       " 1st Qu.:32332  \n",
       " Median :50578  \n",
       " Mean   :50679  \n",
       " 3rd Qu.:69085  \n",
       " Max.   :87853  \n",
       "                "
      ]
     },
     "metadata": {},
     "output_type": "display_data"
    }
   ],
   "source": [
    "summary(ds)"
   ]
  },
  {
   "cell_type": "code",
   "execution_count": 4,
   "metadata": {},
   "outputs": [
    {
     "name": "stderr",
     "output_type": "stream",
     "text": [
      "Loading required package: Matrix\n",
      "\n",
      "Attaching package: ‘arules’\n",
      "\n",
      "The following objects are masked from ‘package:base’:\n",
      "\n",
      "    abbreviate, write\n",
      "\n",
      "Loading required package: grid\n"
     ]
    }
   ],
   "source": [
    "library(arules)\n",
    "library(arulesViz)"
   ]
  },
  {
   "cell_type": "code",
   "execution_count": 5,
   "metadata": {
    "collapsed": true
   },
   "outputs": [],
   "source": [
    "mba1 <- split(ds[, \"CodProducto_id\"], f=ds$CodVenta_id)"
   ]
  },
  {
   "cell_type": "code",
   "execution_count": 6,
   "metadata": {
    "collapsed": true
   },
   "outputs": [],
   "source": [
    "mba1 <- lapply(mba1, unique)"
   ]
  },
  {
   "cell_type": "code",
   "execution_count": 7,
   "metadata": {
    "collapsed": true
   },
   "outputs": [],
   "source": [
    "mba1 <- as(mba1, \"transactions\")"
   ]
  },
  {
   "cell_type": "code",
   "execution_count": 8,
   "metadata": {},
   "outputs": [
    {
     "data": {
      "text/plain": [
       "transactions as itemMatrix in sparse format with\n",
       " 74327 rows (elements/itemsets/transactions) and\n",
       " 338 columns (items) and a density of 0.00676998 \n",
       "\n",
       "most frequent items:\n",
       " 022CA   125CT   262BO   145TG   283BC  (Other) \n",
       "   6182    5156    4877    4791    4582  144491 \n",
       "\n",
       "element (itemset/transaction) length distribution:\n",
       "sizes\n",
       "    1     2     3     4     5     6     7     8     9    10    11 \n",
       "24952 23990 13534  6693  2819  1296   619   286   103    31     4 \n",
       "\n",
       "   Min. 1st Qu.  Median    Mean 3rd Qu.    Max. \n",
       "  1.000   1.000   2.000   2.288   3.000  11.000 \n",
       "\n",
       "includes extended item information - examples:\n",
       "  labels\n",
       "1 001CH \n",
       "2 002CO \n",
       "3 003CL \n",
       "\n",
       "includes extended transaction information - examples:\n",
       "  transactionID\n",
       "1     BA0000000\n",
       "2     BA0000001\n",
       "3     BA0000002"
      ]
     },
     "metadata": {},
     "output_type": "display_data"
    }
   ],
   "source": [
    "summary(mba1)"
   ]
  },
  {
   "cell_type": "code",
   "execution_count": 9,
   "metadata": {},
   "outputs": [
    {
     "data": {
      "image/png": "[encoded data removed]",
      "text/plain": [
       "plot without title"
      ]
     },
     "metadata": {},
     "output_type": "display_data"
    }
   ],
   "source": [
    "itemFrequencyPlot(mba1, topN=15, type=\"absolute\")"
   ]
  },
  {
   "cell_type": "code",
   "execution_count": 10,
   "metadata": {
    "collapsed": true
   },
   "outputs": [],
   "source": [
    "mba <- mba1"
   ]
  },
  {
   "cell_type": "code",
   "execution_count": 11,
   "metadata": {},
   "outputs": [
    {
     "name": "stdout",
     "output_type": "stream",
     "text": [
      "Apriori\n",
      "\n",
      "Parameter specification:\n",
      " confidence minval smax arem  aval originalSupport maxtime support minlen\n",
      "        0.8    0.1    1 none FALSE            TRUE       5   2e-04      1\n",
      " maxlen target   ext\n",
      "     10  rules FALSE\n",
      "\n",
      "Algorithmic control:\n",
      " filter tree heap memopt load sort verbose\n",
      "    0.1 TRUE TRUE  FALSE TRUE    2    TRUE\n",
      "\n",
      "Absolute minimum support count: 14 \n",
      "\n",
      "set item appearances ...[0 item(s)] done [0.00s].\n",
      "set transactions ...[338 item(s), 74327 transaction(s)] done [0.01s].\n",
      "sorting and recoding items ... [338 item(s)] done [0.00s].\n",
      "creating transaction tree ... done [0.03s].\n",
      "checking subsets of size 1 2 3 4 done [0.01s].\n",
      "writing ... [17 rule(s)] done [0.00s].\n",
      "creating S4 object  ... done [0.01s].\n"
     ]
    }
   ],
   "source": [
    "rules <- apriori(mba, parameter = list(supp=0.0002, conf=0.8))"
   ]
  },
  {
   "cell_type": "code",
   "execution_count": 12,
   "metadata": {},
   "outputs": [
    {
     "data": {
      "text/plain": [
       "set of 17 rules\n",
       "\n",
       "rule length distribution (lhs + rhs):sizes\n",
       " 3  4 \n",
       " 5 12 \n",
       "\n",
       "   Min. 1st Qu.  Median    Mean 3rd Qu.    Max. \n",
       "  3.000   3.000   4.000   3.706   4.000   4.000 \n",
       "\n",
       "summary of quality measures:\n",
       "    support            confidence          lift           count       \n",
       " Min.   :0.0002018   Min.   :0.8095   Min.   :11.67   Min.   : 15.00  \n",
       " 1st Qu.:0.0002287   1st Qu.:0.8196   1st Qu.:12.14   1st Qu.: 17.00  \n",
       " Median :0.0002556   Median :0.8500   Median :12.90   Median : 19.00  \n",
       " Mean   :0.0004638   Mean   :0.8696   Mean   :18.44   Mean   : 34.47  \n",
       " 3rd Qu.:0.0003229   3rd Qu.:0.9048   3rd Qu.:13.61   3rd Qu.: 24.00  \n",
       " Max.   :0.0036057   Max.   :1.0000   Max.   :45.20   Max.   :268.00  \n",
       "\n",
       "mining info:\n",
       " data ntransactions support confidence\n",
       "  mba         74327   2e-04        0.8"
      ]
     },
     "metadata": {},
     "output_type": "display_data"
    }
   ],
   "source": [
    "summary(rules)"
   ]
  },
  {
   "cell_type": "code",
   "execution_count": 13,
   "metadata": {},
   "outputs": [],
   "source": [
    "rules <- sort(rules, by=\"confidence\", decreasing=TRUE)"
   ]
  },
  {
   "cell_type": "code",
   "execution_count": 14,
   "metadata": {},
   "outputs": [
    {
     "data": {
      "text/plain": [
       "set of 6 rules "
      ]
     },
     "metadata": {},
     "output_type": "display_data"
    }
   ],
   "source": [
    "head(rules)"
   ]
  },
  {
   "cell_type": "code",
   "execution_count": 15,
   "metadata": {},
   "outputs": [
    {
     "name": "stdout",
     "output_type": "stream",
     "text": [
      "     lhs                       rhs      support      confidence lift     count\n",
      "[1]  {011CH ,122TI ,206ZI } => {125CT } 0.0003094434 1.0000000  14.41563  23  \n",
      "[2]  {122TI ,206ZI ,321SW } => {125CT } 0.0002287190 0.9444444  13.61476  17  \n",
      "[3]  {037RO ,122TI ,206ZI } => {125CT } 0.0003901678 0.9354839  13.48559  29  \n",
      "[4]  {060PR ,122TI ,206ZI } => {125CT } 0.0002690812 0.9090909  13.10512  20  \n",
      "[5]  {122TI ,152TR ,206ZI } => {125CT } 0.0002556272 0.9047619  13.04271  19  \n",
      "[6]  {122TI ,206ZI ,283BC } => {125CT } 0.0002287190 0.8947368  12.89820  17  \n",
      "[7]  {122TI ,206ZI ,262BO } => {125CT } 0.0003228975 0.8888889  12.81390  24  \n",
      "[8]  {122TI ,191CB ,206ZI } => {125CT } 0.0002018109 0.8823529  12.71968  15  \n",
      "[9]  {206ZI ,320SW }        => {125CT } 0.0002287190 0.8500000  12.25329  17  \n",
      "[10] {079MA ,122TI ,206ZI } => {125CT } 0.0002152650 0.8421053  12.13948  16  \n",
      "[11] {122TI ,145TG ,206ZI } => {125CT } 0.0002152650 0.8421053  12.13948  16  \n",
      "[12] {122TI ,132DC ,206ZI } => {125CT } 0.0002556272 0.8260870  11.90857  19  \n",
      "[13] {122TI ,206ZI }        => {125CT } 0.0036056884 0.8195719  11.81465 268  \n",
      "[14] {030MI ,036RB }        => {312CB } 0.0003498056 0.8125000  45.20261  26  \n",
      "[15] {030MI ,251RA }        => {312CB } 0.0003498056 0.8125000  45.20261  26  \n",
      "[16] {030MI ,124TT }        => {312CB } 0.0002287190 0.8095238  45.03703  17  \n",
      "[17] {087SE ,122TI ,206ZI } => {125CT } 0.0002287190 0.8095238  11.66980  17  \n"
     ]
    }
   ],
   "source": [
    "inspect(rules)"
   ]
  },
  {
   "cell_type": "code",
   "execution_count": null,
   "metadata": {
    "collapsed": true
   },
   "outputs": [],
   "source": []
  },
  {
   "cell_type": "code",
   "execution_count": null,
   "metadata": {
    "collapsed": true
   },
   "outputs": [],
   "source": []
  }
 ],
 "metadata": {
  "kernelspec": {
   "display_name": "R",
   "language": "R",
   "name": "ir"
  },
  "language_info": {
   "codemirror_mode": "r",
   "file_extension": ".r",
   "mimetype": "text/x-r-source",
   "name": "R",
   "pygments_lexer": "r",
   "version": "3.4.2"
  }
 },
 "nbformat": 4,
 "nbformat_minor": 2
}
